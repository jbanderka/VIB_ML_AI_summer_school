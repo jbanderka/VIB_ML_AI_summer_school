{
  "cells": [
    {
      "cell_type": "markdown",
      "metadata": {
        "id": "AgMAwGVbjQ4L"
      },
      "source": [
        "# PyTorch Basics: Introduction to Deep Learning\n",
        "\n",
        "Today we will learn how to work with PyTorch, one of the most popular deep learning frameworks (libraries). We will see how can we do the same things as in NumPy and more.\n",
        "\n",
        "[How to install](https://pytorch.org/)"
      ]
    },
    {
      "cell_type": "code",
      "execution_count": null,
      "metadata": {
        "id": "ukFaO74ejSHW"
      },
      "outputs": [],
      "source": [
        "!pip install torch pandas matplotlib seaborn scikit-learn ipywidgets"
      ]
    },
    {
      "cell_type": "markdown",
      "metadata": {
        "id": "1f_vV2i3jQ4M"
      },
      "source": [
        "## 1. Introduction to PyTorch\n",
        "\n",
        "PyTorch is an open-source machine learning library developed by Facebook (now Meta). It's known for its dynamic computational graphs and Python-first approach, making it popular for research and production.\n",
        "\n",
        "### Key Features:\n",
        "- **Dynamic Computational Graphs**: Graphs are built on-the-fly (sounds abstract but we'll discuss)\n",
        "- **Pythonic**: Natural Python syntax and control flow\n",
        "- **GPU Support**: Seamless CPU/GPU computation\n",
        "- **Rich Ecosystem**: Extensive libraries for computer vision, NLP, etc."
      ]
    },
    {
      "cell_type": "code",
      "execution_count": 1,
      "metadata": {
        "id": "8CEoz0VDjQ4N",
        "outputId": "16ea26e5-f376-4e9a-ec03-941096cfd40b",
        "colab": {
          "base_uri": "https://localhost:8080/"
        }
      },
      "outputs": [
        {
          "output_type": "stream",
          "name": "stdout",
          "text": [
            "PyTorch version: 2.8.0+cu126\n",
            "CUDA available: True\n",
            "CUDA device: Tesla T4\n"
          ]
        }
      ],
      "source": [
        "from pathlib import Path\n",
        "import time\n",
        "import pandas as pd\n",
        "import matplotlib.pyplot as plt\n",
        "import torch\n",
        "import torch.nn as nn\n",
        "import torch.optim as optim\n",
        "import torch.nn.functional as F\n",
        "from torch.utils.data import Dataset, DataLoader\n",
        "import numpy as np\n",
        "import seaborn as sns\n",
        "from sklearn.model_selection import train_test_split\n",
        "from sklearn.metrics import accuracy_score\n",
        "from IPython.display import clear_output\n",
        "\n",
        "# Set random seed for reproducibility\n",
        "SEED = 42\n",
        "device = torch.device('cuda' if torch.cuda.is_available() else 'cpu')\n",
        "torch.manual_seed(SEED)\n",
        "np.random.seed(SEED)\n",
        "\n",
        "# Check PyTorch version and CUDA availability\n",
        "print(f\"PyTorch version: {torch.__version__}\")\n",
        "print(f\"CUDA available: {torch.cuda.is_available()}\")\n",
        "if torch.cuda.is_available():\n",
        "    print(f\"CUDA device: {torch.cuda.get_device_name(0)}\")\n",
        "\n",
        "def set_plot_params():\n",
        "    plt.style.use(\"seaborn-v0_8-paper\")\n",
        "    sns.set_context(\"paper\", font_scale=1.5)\n",
        "    sns.set_style(\n",
        "        \"ticks\",\n",
        "        {\n",
        "            \"axes.grid\": True,\n",
        "            \"grid.linestyle\": \"--\",\n",
        "            \"grid.alpha\": 0.6,\n",
        "            \"axes.spines.right\": False,\n",
        "            \"axes.spines.top\": False,\n",
        "            \"font.family\": \"serif\",\n",
        "            \"axes.labelpad\": 10,\n",
        "        },\n",
        "    )\n",
        "\n",
        "    colors = [\n",
        "        \"#0173B2\",\n",
        "        \"#DE8F05\",\n",
        "        \"#029E73\",\n",
        "        \"#D55E00\",\n",
        "        \"#CC78BC\",\n",
        "        \"#CA9161\",\n",
        "        \"#FBAFE4\",\n",
        "    ]\n",
        "    sns.set_palette(colors)\n",
        "\n",
        "set_plot_params()"
      ]
    },
    {
      "cell_type": "markdown",
      "metadata": {
        "id": "LKHQXDi4jQ4O"
      },
      "source": [
        "## 2. Tensors: The Foundation of PyTorch\n",
        "\n",
        "Tensors are the fundamental data structure in PyTorch, similar to NumPy arrays but with additional features for deep learning.\n",
        "\n",
        "### Key Concepts:\n",
        "- **Tensors** are multi-dimensional arrays\n",
        "- **Shape** defines the dimensions\n",
        "- **Data Type** (dtype) specifies the data type\n",
        "- **Device** (CPU/GPU) determines where computation happens"
      ]
    },
    {
      "cell_type": "markdown",
      "metadata": {
        "id": "SjNRA_r3jQ4O"
      },
      "source": [
        "### All dtypes\n",
        "\n",
        "- `torch.HalfTensor`      # 16 bits, floating point\n",
        "- `torch.FloatTensor`     # 32 bits, floating point\n",
        "- `torch.DoubleTensor`    # 64 bits, floating point\n",
        "\n",
        "- `torch.ShortTensor`     # 16 bits, integer, signed\n",
        "- `torch.IntTensor`       # 32 bits, integer, signed\n",
        "- `torch.LongTensor`      # 64 bits, integer, signed\n",
        "\n",
        "- `torch.CharTensor`      # 8 bits, integer, signed\n",
        "- `torch.ByteTensor`      # 8 bits, integer, unsigned\n",
        "\n",
        "We will use `torch.FloatTensor()` and `torch.IntTensor()` most of the time."
      ]
    },
    {
      "cell_type": "markdown",
      "metadata": {
        "id": "TRTt02AXjQ4O"
      },
      "source": [
        "### Creating tensors"
      ]
    },
    {
      "cell_type": "code",
      "execution_count": 2,
      "metadata": {
        "id": "BoMsxhiUjQ4O",
        "outputId": "333a662a-84a2-468e-e642-f02987f22e41",
        "colab": {
          "base_uri": "https://localhost:8080/"
        }
      },
      "outputs": [
        {
          "output_type": "stream",
          "name": "stdout",
          "text": [
            "From list: tensor([1, 2, 3, 4]), shape: torch.Size([4]), dtype: torch.int64\n"
          ]
        }
      ],
      "source": [
        "# From Python lists\n",
        "x = torch.tensor([1, 2, 3, 4])\n",
        "print(f\"From list: {x}, shape: {x.shape}, dtype: {x.dtype}\")"
      ]
    },
    {
      "cell_type": "code",
      "execution_count": 3,
      "metadata": {
        "id": "AijKuYTcjQ4P",
        "outputId": "b0cee7d5-b40e-4ee1-ac89-411f64d67494",
        "colab": {
          "base_uri": "https://localhost:8080/"
        }
      },
      "outputs": [
        {
          "output_type": "stream",
          "name": "stdout",
          "text": [
            "From NumPy: \n",
            "tensor([[1, 2],\n",
            "        [3, 4]])\n",
            "shape: torch.Size([2, 2])\n"
          ]
        }
      ],
      "source": [
        "# From NumPy arrays\n",
        "arr = np.array([[1, 2], [3, 4]])\n",
        "y = torch.from_numpy(arr)\n",
        "print(f\"From NumPy: \\n{y}\\nshape: {y.shape}\")"
      ]
    },
    {
      "cell_type": "markdown",
      "metadata": {
        "id": "lWxN4POGjQ4P"
      },
      "source": [
        "Good to know when converting data from `numpy` to `torch`:"
      ]
    },
    {
      "cell_type": "code",
      "execution_count": 4,
      "metadata": {
        "id": "gA982upfjQ4P",
        "outputId": "1768dcf8-f567-4018-85a0-e3554f4c203d",
        "colab": {
          "base_uri": "https://localhost:8080/"
        }
      },
      "outputs": [
        {
          "output_type": "execute_result",
          "data": {
            "text/plain": [
              "(tensor([[0, 0],\n",
              "         [0, 0]]),\n",
              " array([[0, 0],\n",
              "        [0, 0]]))"
            ]
          },
          "metadata": {},
          "execution_count": 4
        }
      ],
      "source": [
        "y -= y\n",
        "y, arr"
      ]
    },
    {
      "cell_type": "code",
      "execution_count": 5,
      "metadata": {
        "id": "bKlka2e7jQ4P",
        "outputId": "e1ad97bc-9961-41b0-d518-888fd0379f7b",
        "colab": {
          "base_uri": "https://localhost:8080/"
        }
      },
      "outputs": [
        {
          "output_type": "stream",
          "name": "stdout",
          "text": [
            "Zeros: \n",
            "tensor([[0., 0., 0.],\n",
            "        [0., 0., 0.]])\n",
            "Ones: \n",
            "tensor([[1., 1., 1.],\n",
            "        [1., 1., 1.]])\n"
          ]
        }
      ],
      "source": [
        "# Zeros and ones\n",
        "zeros = torch.zeros(2, 3)\n",
        "ones = torch.ones(2, 3)\n",
        "print(f\"Zeros: \\n{zeros}\")\n",
        "print(f\"Ones: \\n{ones}\")"
      ]
    },
    {
      "cell_type": "code",
      "execution_count": 6,
      "metadata": {
        "id": "STovztBjjQ4P",
        "outputId": "bc87ed79-ebf6-4106-8eb0-78bf3795150c",
        "colab": {
          "base_uri": "https://localhost:8080/"
        }
      },
      "outputs": [
        {
          "output_type": "stream",
          "name": "stdout",
          "text": [
            "Random tensor: \n",
            "tensor([[0.8823, 0.9150, 0.3829, 0.9593],\n",
            "        [0.3904, 0.6009, 0.2566, 0.7936],\n",
            "        [0.9408, 0.1332, 0.9346, 0.5936]])\n"
          ]
        }
      ],
      "source": [
        "# Random tensors\n",
        "random_tensor = torch.rand(3, 4)\n",
        "print(f\"Random tensor: \\n{random_tensor}\")"
      ]
    },
    {
      "cell_type": "code",
      "execution_count": 7,
      "metadata": {
        "id": "sHCM5e3yjQ4Q",
        "outputId": "4dcfa4b0-72ba-4f29-e263-6eb7cedd7fda",
        "colab": {
          "base_uri": "https://localhost:8080/"
        }
      },
      "outputs": [
        {
          "output_type": "stream",
          "name": "stdout",
          "text": [
            "Float tensor: tensor([1., 2., 3.], dtype=torch.float16), dtype: torch.float16\n"
          ]
        }
      ],
      "source": [
        "# Specifying data type\n",
        "float_tensor = torch.tensor([1, 2, 3], dtype=torch.float16)\n",
        "print(f\"Float tensor: {float_tensor}, dtype: {float_tensor.dtype}\")"
      ]
    },
    {
      "cell_type": "code",
      "execution_count": 8,
      "metadata": {
        "id": "QL-MT0KMjQ4Q",
        "outputId": "0d11ff1c-ac0f-4752-e7f3-a1969dbfd27a",
        "colab": {
          "base_uri": "https://localhost:8080/"
        }
      },
      "outputs": [
        {
          "output_type": "stream",
          "name": "stdout",
          "text": [
            "x ~ N(0, 1)\n",
            " tensor([[ 2.2082, -0.6380,  0.4617],\n",
            "        [ 0.2674,  0.5349,  0.8094]])\n"
          ]
        }
      ],
      "source": [
        "# Creating tenors from various distributions\n",
        "x = torch.randn((2, 3)) # Normal(0, 1) with shape (2, 3)\n",
        "print(f\"x ~ N(0, 1)\\n {x}\")"
      ]
    },
    {
      "cell_type": "markdown",
      "metadata": {
        "id": "zn4TGiR8jQ4Q"
      },
      "source": [
        "Most of the methods (functions) in PyTorch have their analog with `_`, e.g. `method` and `method_`. The first one creates a new object and the second changes existing one.  "
      ]
    },
    {
      "cell_type": "code",
      "execution_count": 9,
      "metadata": {
        "id": "iOFG9WmejQ4Q",
        "outputId": "c1aeac18-78c2-41de-eb7a-4d12e8a0649a",
        "colab": {
          "base_uri": "https://localhost:8080/"
        }
      },
      "outputs": [
        {
          "output_type": "stream",
          "name": "stdout",
          "text": [
            "x ~ Ud[0, 10)\n",
            " tensor([[9., 3., 1.],\n",
            "        [9., 7., 9.]])\n"
          ]
        }
      ],
      "source": [
        "# Fills x with values from discrite uniform distribution\n",
        "x.random_(0, 10)\n",
        "print(f\"x ~ Ud[0, 10)\\n {x}\")"
      ]
    },
    {
      "cell_type": "code",
      "execution_count": 10,
      "metadata": {
        "id": "MnFhC3oojQ4Q",
        "outputId": "a60cdbb8-571a-4150-d11f-f5ed492b2011",
        "colab": {
          "base_uri": "https://localhost:8080/"
        }
      },
      "outputs": [
        {
          "output_type": "stream",
          "name": "stdout",
          "text": [
            "x ~ U[0, 1]\n",
            " tensor([[0.9516, 0.0753, 0.8860],\n",
            "        [0.5832, 0.3376, 0.8090]])\n"
          ]
        }
      ],
      "source": [
        "# Fills x with values from uniform distribution\n",
        "x.uniform_(0, 1)\n",
        "print(f\"x ~ U[0, 1]\\n {x}\")"
      ]
    },
    {
      "cell_type": "code",
      "execution_count": 11,
      "metadata": {
        "id": "16yIUQ-mjQ4Q",
        "outputId": "8453ba6d-4b99-4714-f44e-fce4e5911392",
        "colab": {
          "base_uri": "https://localhost:8080/"
        }
      },
      "outputs": [
        {
          "output_type": "stream",
          "name": "stdout",
          "text": [
            "x ~ Bernoulli(0.5)\n",
            " tensor([[0., 1., 1.],\n",
            "        [0., 1., 1.]])\n"
          ]
        }
      ],
      "source": [
        "# Bernoulli with parameter p\n",
        "x.bernoulli_(p=0.5)\n",
        "print((f\"x ~ Bernoulli(0.5)\\n {x}\"))"
      ]
    },
    {
      "cell_type": "markdown",
      "metadata": {
        "id": "yfikKCTFjQ4Q"
      },
      "source": [
        "### Functions and tensor operations in Torch\n",
        "\n",
        "A lot of function from `numpy` have their pair in `PyTorch`! We just need to remember `numpy` 😨 😰 😥 😓 🤗\n",
        "\n",
        "[click here](https://github.com/torch/torch7/wiki/Torch-for-Numpy-users)"
      ]
    },
    {
      "cell_type": "markdown",
      "metadata": {
        "id": "9p6yuIrajQ4R"
      },
      "source": [
        "#### Basic operations"
      ]
    },
    {
      "cell_type": "code",
      "execution_count": 12,
      "metadata": {
        "id": "OmP_nWfYjQ4R"
      },
      "outputs": [],
      "source": [
        "a = torch.tensor([1, 2, 3])\n",
        "b = torch.tensor([4, 5, 6])"
      ]
    },
    {
      "cell_type": "code",
      "execution_count": 13,
      "metadata": {
        "id": "FIwTov2hjQ4R",
        "outputId": "2c44129f-3a0b-4ccd-da94-72ecf325b421",
        "colab": {
          "base_uri": "https://localhost:8080/"
        }
      },
      "outputs": [
        {
          "output_type": "stream",
          "name": "stdout",
          "text": [
            "Addition: tensor([5, 7, 9])\n",
            "Multiplication: tensor([ 4, 10, 18])\n",
            "Matrix multiplication: 32\n",
            "Matrix multiplication: 32\n",
            "Matrix multiplication @: 32\n"
          ]
        }
      ],
      "source": [
        "# Basic arithmetic\n",
        "print(f\"Addition: {a + b}\")\n",
        "print(f\"Multiplication: {a * b}\")\n",
        "print(f\"Matrix multiplication: {torch.matmul(a, b)}\")\n",
        "print(f\"Matrix multiplication: {torch.matmul(a, b)}\")\n",
        "print(f\"Matrix multiplication @: {a @ b}\")"
      ]
    },
    {
      "cell_type": "code",
      "execution_count": 18,
      "metadata": {
        "id": "h4tdjmmVjQ4R",
        "outputId": "85fc32b3-0d7f-42cc-ab22-a27d528f269c",
        "colab": {
          "base_uri": "https://localhost:8080/"
        }
      },
      "outputs": [
        {
          "output_type": "stream",
          "name": "stdout",
          "text": [
            "Original: tensor([ 0,  1,  2,  3,  4,  5,  6,  7,  8,  9, 10, 11, 12, 13, 14, 15, 16, 17,\n",
            "        18, 19, 20, 21, 22, 23])\n",
            "Reshaped to 3x4: \n",
            "tensor([[ 0,  1,  2,  3],\n",
            "        [ 4,  5,  6,  7],\n",
            "        [ 8,  9, 10, 11],\n",
            "        [12, 13, 14, 15],\n",
            "        [16, 17, 18, 19],\n",
            "        [20, 21, 22, 23]])\n",
            "Reshaped to 3x4: \n",
            "tensor([[ 0,  1,  2,  3],\n",
            "        [ 4,  5,  6,  7],\n",
            "        [ 8,  9, 10, 11],\n",
            "        [12, 13, 14, 15],\n",
            "        [16, 17, 18, 19],\n",
            "        [20, 21, 22, 23]])\n",
            "Reshaped to -1(everything else)x12: \n",
            "tensor([[ 0,  1,  2,  3,  4,  5,  6,  7,  8,  9, 10, 11],\n",
            "        [12, 13, 14, 15, 16, 17, 18, 19, 20, 21, 22, 23]])\n"
          ]
        }
      ],
      "source": [
        "# Reshaping\n",
        "c = torch.arange(24)\n",
        "print(f\"Original: {c}\")\n",
        "print(f\"Reshaped to 3x4: \\n{c.reshape(6, 4)}\")\n",
        "print(f\"Reshaped to 3x4: \\n{c.view(6, 4)}\")\n",
        "print(f\"Reshaped to -1(everything else)x12: \\n{c.reshape(-1, 12)}\")"
      ]
    },
    {
      "cell_type": "code",
      "execution_count": 15,
      "metadata": {
        "id": "-rdyaodhjQ4R",
        "outputId": "4978dd8f-b25f-4840-df06-b7caab941366",
        "colab": {
          "base_uri": "https://localhost:8080/"
        }
      },
      "outputs": [
        {
          "output_type": "stream",
          "name": "stdout",
          "text": [
            "Matrix: \n",
            "tensor([[0.7539, 0.1952, 0.0050, 0.3068],\n",
            "        [0.1165, 0.9103, 0.6440, 0.7071],\n",
            "        [0.6581, 0.4913, 0.8913, 0.1447],\n",
            "        [0.5315, 0.1587, 0.6542, 0.3278]])\n",
            "First row: tensor([0.7539, 0.1952, 0.0050, 0.3068])\n",
            "First column: tensor([0.7539, 0.1165, 0.6581, 0.5315])\n",
            "Submatrix (rows 1-2, cols 1-2): \n",
            "tensor([[0.9103, 0.6440],\n",
            "        [0.4913, 0.8913]])\n"
          ]
        }
      ],
      "source": [
        "# Slicing and indexing\n",
        "matrix = torch.rand(4, 4)\n",
        "print(f\"Matrix: \\n{matrix}\")\n",
        "print(f\"First row: {matrix[0]}\")\n",
        "print(f\"First column: {matrix[:, 0]}\")\n",
        "print(f\"Submatrix (rows 1-2, cols 1-2): \\n{matrix[1:3, 1:3]}\")"
      ]
    },
    {
      "cell_type": "code",
      "execution_count": 16,
      "metadata": {
        "id": "Iysw9j8RjQ4R",
        "outputId": "83aeb108-e60b-4f16-f124-9722f8869d2f",
        "colab": {
          "base_uri": "https://localhost:8080/"
        }
      },
      "outputs": [
        {
          "output_type": "stream",
          "name": "stdout",
          "text": [
            "Dtype of a: torch.int64\n",
            "Cast a to float64: tensor([1., 2., 3.], dtype=torch.float64)\n",
            "Cast b to the same dtype as a: tensor([4., 5., 6.], dtype=torch.float64)\n",
            ".type_as create a new tensor, the old one stays unchganged: torch.int64\n"
          ]
        }
      ],
      "source": [
        "# Change dtype\n",
        "print(f\"Dtype of a: {a.dtype}\")\n",
        "print(f\"Cast a to float64: {a.to(torch.float64)}\")\n",
        "print(f\"Cast b to the same dtype as a: {b.type_as(a.to(torch.float64))}\")\n",
        "print(f\".type_as create a new tensor, the old one stays unchganged: {b.dtype}\")"
      ]
    },
    {
      "cell_type": "code",
      "execution_count": 19,
      "metadata": {
        "id": "QIuhisrHjQ4R",
        "outputId": "e5f0ebdf-d2ed-4c67-c448-3bd24f2e12f7",
        "colab": {
          "base_uri": "https://localhost:8080/"
        }
      },
      "outputs": [
        {
          "output_type": "stream",
          "name": "stdout",
          "text": [
            "sin(a): tensor([0.8415, 0.9093, 0.1411])\n",
            "exp(a): tensor([ 2.7183,  7.3891, 20.0855])\n",
            "sigmoid(a): tensor([0.7311, 0.8808, 0.9526])\n"
          ]
        }
      ],
      "source": [
        "# Applying common funstion element-wise\n",
        "print(f\"sin(a): {torch.sin(a)}\")\n",
        "print(f\"exp(a): {torch.exp(a)}\")\n",
        "print(f\"sigmoid(a): {torch.sigmoid(a)}\")"
      ]
    },
    {
      "cell_type": "markdown",
      "metadata": {
        "id": "9CJEnxOSjQ4R"
      },
      "source": [
        "#### Aggregation and working with axes\n",
        "\n",
        "`sum`, `mean`, `max`, `min`, etc."
      ]
    },
    {
      "cell_type": "code",
      "execution_count": 20,
      "metadata": {
        "id": "9Zylw1WAjQ4R"
      },
      "outputs": [],
      "source": [
        "a = torch.FloatTensor([[-0.5, 0.5, 0], [-10, -20, -30], [100, 200, 300]])"
      ]
    },
    {
      "cell_type": "code",
      "execution_count": 21,
      "metadata": {
        "id": "4k5Gf6iejQ4R",
        "outputId": "cc500a07-97eb-41c1-ec82-0a398d7d09d4",
        "colab": {
          "base_uri": "https://localhost:8080/"
        }
      },
      "outputs": [
        {
          "output_type": "execute_result",
          "data": {
            "text/plain": [
              "tensor(540.)"
            ]
          },
          "metadata": {},
          "execution_count": 21
        }
      ],
      "source": [
        "a.sum() # tensor"
      ]
    },
    {
      "cell_type": "code",
      "execution_count": 22,
      "metadata": {
        "id": "Ke8-7Sb8jQ4S",
        "outputId": "f2bb1771-4d6d-4bda-e0e3-5cdd4e8fd78b",
        "colab": {
          "base_uri": "https://localhost:8080/"
        }
      },
      "outputs": [
        {
          "output_type": "execute_result",
          "data": {
            "text/plain": [
              "540.0"
            ]
          },
          "metadata": {},
          "execution_count": 22
        }
      ],
      "source": [
        "a.sum().item() # Python float"
      ]
    },
    {
      "cell_type": "markdown",
      "metadata": {
        "id": "X9I1jM1RjQ4S"
      },
      "source": [
        "Operations with tensors return tensors"
      ]
    },
    {
      "cell_type": "code",
      "execution_count": 23,
      "metadata": {
        "id": "Asbligt8jQ4S",
        "outputId": "4c5e3145-54af-47a1-f842-fa4e5a6397fb",
        "colab": {
          "base_uri": "https://localhost:8080/"
        }
      },
      "outputs": [
        {
          "output_type": "execute_result",
          "data": {
            "text/plain": [
              "tensor(True)"
            ]
          },
          "metadata": {},
          "execution_count": 23
        }
      ],
      "source": [
        "# Compare float with float tensor\n",
        "a.sum().item() == a.sum()"
      ]
    },
    {
      "cell_type": "code",
      "execution_count": 24,
      "metadata": {
        "id": "-7HLKcQPjQ4S",
        "outputId": "d07af248-213c-4487-b924-51ea8135f227",
        "colab": {
          "base_uri": "https://localhost:8080/"
        }
      },
      "outputs": [
        {
          "output_type": "execute_result",
          "data": {
            "text/plain": [
              "False"
            ]
          },
          "metadata": {},
          "execution_count": 24
        }
      ],
      "source": [
        "# Not in this case\n",
        "a.sum().item() is a.sum()"
      ]
    },
    {
      "cell_type": "code",
      "execution_count": 25,
      "metadata": {
        "id": "2p_MEm7yjQ4S",
        "outputId": "30f3cc55-faa5-4f07-c16c-1ed8390d5753",
        "colab": {
          "base_uri": "https://localhost:8080/"
        }
      },
      "outputs": [
        {
          "output_type": "execute_result",
          "data": {
            "text/plain": [
              "tensor(60.)"
            ]
          },
          "metadata": {},
          "execution_count": 25
        }
      ],
      "source": [
        "a.mean()"
      ]
    },
    {
      "cell_type": "markdown",
      "metadata": {
        "id": "NkAwG2H2jQ4S"
      },
      "source": [
        "We can apply methods along a specified axis"
      ]
    },
    {
      "cell_type": "code",
      "execution_count": 26,
      "metadata": {
        "id": "pCjVZQP1jQ4S",
        "outputId": "8baddb78-44e2-4a27-c19d-33298bd17c3f",
        "colab": {
          "base_uri": "https://localhost:8080/"
        }
      },
      "outputs": [
        {
          "output_type": "execute_result",
          "data": {
            "text/plain": [
              "(tensor([ 89.5000, 180.5000, 270.0000]), tensor([  0., -60., 600.]))"
            ]
          },
          "metadata": {},
          "execution_count": 26
        }
      ],
      "source": [
        "a.sum(dim=0), a.sum(dim=1)"
      ]
    },
    {
      "cell_type": "code",
      "execution_count": 27,
      "metadata": {
        "id": "oD1kQqsWjQ4S",
        "outputId": "9322996a-c058-4528-eed7-931443c9cdf7",
        "colab": {
          "base_uri": "https://localhost:8080/"
        }
      },
      "outputs": [
        {
          "output_type": "stream",
          "name": "stdout",
          "text": [
            "Max values along 0 axis: tensor([100., 200., 300.])\n",
            "Indexes of max values: tensor([2, 2, 2])\n"
          ]
        }
      ],
      "source": [
        "max_v, max_i = a.max(dim=0)\n",
        "print(f\"Max values along 0 axis: {max_v}\")\n",
        "print(f\"Indexes of max values: {max_i}\")"
      ]
    },
    {
      "cell_type": "markdown",
      "metadata": {
        "id": "xJGnh0S-jQ4S"
      },
      "source": [
        "A simple trick to add a new axis"
      ]
    },
    {
      "cell_type": "code",
      "execution_count": 28,
      "metadata": {
        "id": "ufmpvoBLjQ4S",
        "outputId": "dee5c50a-ae81-4d39-ed7f-a755d0fbb7bd",
        "colab": {
          "base_uri": "https://localhost:8080/"
        }
      },
      "outputs": [
        {
          "output_type": "execute_result",
          "data": {
            "text/plain": [
              "(torch.Size([3, 3]), torch.Size([3, 1, 3]), torch.Size([1, 3, 3]))"
            ]
          },
          "metadata": {},
          "execution_count": 28
        }
      ],
      "source": [
        "a.shape, a[:, None, :].shape, a[None, :, :].shape"
      ]
    },
    {
      "cell_type": "markdown",
      "metadata": {
        "id": "00cK9u2BjQ4T"
      },
      "source": [
        "It is hard sometimes to understand which axis you should use, but there is a simple rule: **operations are applyed along the axis which will disappear.**"
      ]
    },
    {
      "cell_type": "markdown",
      "metadata": {
        "id": "WdxBf65JjQ4T"
      },
      "source": [
        "## 3. Automatic Differentiation (Autograd)\n",
        "\n",
        "Autograd is PyTorch's automatic differentiation engine. It computes gradients automatically, which is essential for training neural networks.\n",
        "\n",
        "### Key Concepts:\n",
        "- **requires_grad=True**: Tells PyTorch to track gradients\n",
        "- **backward()**: Computes gradients\n",
        "- **grad**: Stores the computed gradients\n",
        "- **detach()**: Creates a tensor without gradient tracking"
      ]
    },
    {
      "cell_type": "code",
      "execution_count": 29,
      "metadata": {
        "id": "Xm4TlKi8jQ4T",
        "outputId": "ac7ed4f5-821b-4078-9694-78e6a77c8780",
        "colab": {
          "base_uri": "https://localhost:8080/"
        }
      },
      "outputs": [
        {
          "output_type": "stream",
          "name": "stdout",
          "text": [
            "x: 2.0, requires_grad: True\n",
            "y: 3.0, requires_grad: True\n"
          ]
        }
      ],
      "source": [
        "# Create tensors with gradient tracking\n",
        "x = torch.tensor(2.0, requires_grad=True)\n",
        "y = torch.tensor(3.0, requires_grad=True)\n",
        "\n",
        "print(f\"x: {x}, requires_grad: {x.requires_grad}\")\n",
        "print(f\"y: {y}, requires_grad: {y.requires_grad}\")"
      ]
    },
    {
      "cell_type": "code",
      "execution_count": 30,
      "metadata": {
        "id": "gtTAztLTjQ4T",
        "outputId": "7c516c8d-aee8-4668-a319-91b7227c1c90",
        "colab": {
          "base_uri": "https://localhost:8080/"
        }
      },
      "outputs": [
        {
          "output_type": "stream",
          "name": "stdout",
          "text": [
            "z = x^2 + y^2 = 13.0\n"
          ]
        }
      ],
      "source": [
        "# Define a simple function: f(x, y) = x^2 + y^2\n",
        "z = x**2 + y**2\n",
        "print(f\"z = x^2 + y^2 = {z}\")"
      ]
    },
    {
      "cell_type": "code",
      "execution_count": 31,
      "metadata": {
        "id": "VTSzHrfljQ4U",
        "outputId": "f8a7f9fb-aaaa-46fb-d79e-abdf0c8ad18b",
        "colab": {
          "base_uri": "https://localhost:8080/"
        }
      },
      "outputs": [
        {
          "output_type": "stream",
          "name": "stdout",
          "text": [
            "∂z/∂x = 2x = 4.0\n",
            "∂z/∂y = 2y = 6.0\n"
          ]
        }
      ],
      "source": [
        "# Compute gradients\n",
        "z.backward()\n",
        "\n",
        "print(f\"∂z/∂x = 2x = {x.grad}\")\n",
        "print(f\"∂z/∂y = 2y = {y.grad}\")"
      ]
    },
    {
      "cell_type": "markdown",
      "metadata": {
        "id": "aVmxBLU-jQ4U"
      },
      "source": [
        "Would you expect it?"
      ]
    },
    {
      "cell_type": "markdown",
      "metadata": {
        "id": "LzMCbN5hjQ4U"
      },
      "source": [
        "#### More complex example: linear regression"
      ]
    },
    {
      "cell_type": "code",
      "execution_count": 32,
      "metadata": {
        "id": "_3fYrQrJjQ4U"
      },
      "outputs": [],
      "source": [
        "# Generate synthetic data\n",
        "x = torch.randn(100, 1)\n",
        "y = 3 * x + 2 + 2.0 * torch.randn(100, 1) + 1.0 * (torch.sin(x)) # Add some noise"
      ]
    },
    {
      "cell_type": "code",
      "execution_count": 33,
      "metadata": {
        "id": "HrQX0_0mjQ4U",
        "outputId": "f0833429-a82e-4136-ada4-6ea38d5d079b",
        "colab": {
          "base_uri": "https://localhost:8080/",
          "height": 432
        }
      },
      "outputs": [
        {
          "output_type": "display_data",
          "data": {
            "text/plain": [
              "<Figure size 640x440 with 1 Axes>"
            ],
            "image/png": "[encoded data removed]"
          },
          "metadata": {}
        }
      ],
      "source": [
        "sns.scatterplot(y=y.numpy()[:, 0], x=x.numpy()[:, 0], label=\"Real\")\n",
        "sns.lineplot(y=(3 * x + 2).numpy()[:, 0], x=x.numpy()[:, 0], color=\"orange\", label=\"Theoretical\")\n",
        "plt.xlabel(\"Feature\")\n",
        "plt.ylabel(\"Target\");"
      ]
    },
    {
      "cell_type": "code",
      "execution_count": 34,
      "metadata": {
        "id": "IlulHzU-jQ4U",
        "outputId": "97b36f1a-8550-439d-8edf-30960afb38f2",
        "colab": {
          "base_uri": "https://localhost:8080/"
        }
      },
      "outputs": [
        {
          "output_type": "execute_result",
          "data": {
            "text/plain": [
              "(tensor([-1.3375], requires_grad=True), tensor([0.6449], requires_grad=True))"
            ]
          },
          "metadata": {},
          "execution_count": 34
        }
      ],
      "source": [
        "# Generate random initial parameters (weights)\n",
        "w0 = torch.randn(1, requires_grad=True)\n",
        "w1 = torch.randn(1, requires_grad=True)\n",
        "\n",
        "w0, w1"
      ]
    },
    {
      "cell_type": "markdown",
      "metadata": {
        "id": "yjFfNng5jQ4U"
      },
      "source": [
        "Make predictions and calculate the loss:"
      ]
    },
    {
      "cell_type": "code",
      "execution_count": 35,
      "metadata": {
        "id": "vA_YT3ztjQ4U"
      },
      "outputs": [],
      "source": [
        "y_pred = w1 * x + w0\n",
        "loss = torch.mean((y_pred - y) ** 2)"
      ]
    },
    {
      "cell_type": "code",
      "execution_count": 36,
      "metadata": {
        "id": "eD4z2bgSjQ4U",
        "outputId": "4b770ab8-ff18-4368-af0e-a034b763b61d",
        "colab": {
          "base_uri": "https://localhost:8080/"
        }
      },
      "outputs": [
        {
          "output_type": "execute_result",
          "data": {
            "text/plain": [
              "tensor(27.7125, grad_fn=<MeanBackward0>)"
            ]
          },
          "metadata": {},
          "execution_count": 36
        }
      ],
      "source": [
        "loss"
      ]
    },
    {
      "cell_type": "markdown",
      "metadata": {
        "id": "aHAVv83GjQ4U"
      },
      "source": [
        "Backpropagation in one line:"
      ]
    },
    {
      "cell_type": "code",
      "execution_count": 37,
      "metadata": {
        "id": "PLKWphNojQ4V"
      },
      "outputs": [],
      "source": [
        "loss.backward()"
      ]
    },
    {
      "cell_type": "code",
      "execution_count": 38,
      "metadata": {
        "id": "0hnB35d0jQ4V",
        "outputId": "0b24cee0-d64d-4fb6-80e2-d0df430e51e5",
        "colab": {
          "base_uri": "https://localhost:8080/"
        }
      },
      "outputs": [
        {
          "output_type": "stream",
          "name": "stdout",
          "text": [
            "∂L/∂w0 = \n",
            " tensor([-8.1764])\n",
            "∂L/∂w1 = \n",
            " tensor([-6.4983])\n"
          ]
        }
      ],
      "source": [
        "print(\"∂L/∂w0 = \\n\", w0.grad)\n",
        "print(\"∂L/∂w1 = \\n\", w1.grad)"
      ]
    },
    {
      "cell_type": "markdown",
      "metadata": {
        "id": "koZ6r-jUjQ4V"
      },
      "source": [
        "#### Training our first model:"
      ]
    },
    {
      "cell_type": "code",
      "execution_count": 39,
      "metadata": {
        "id": "-u0EZ9lmjQ4V",
        "outputId": "a0d5e1ec-9ecf-4fe6-f5b7-c11f516b6538",
        "colab": {
          "base_uri": "https://localhost:8080/",
          "height": 493
        }
      },
      "outputs": [
        {
          "output_type": "display_data",
          "data": {
            "text/plain": [
              "<Figure size 640x440 with 1 Axes>"
            ],
            "image/png": "[encoded data removed]"
          },
          "metadata": {}
        },
        {
          "output_type": "stream",
          "name": "stdout",
          "text": [
            "Epoch 65 / 200\n",
            "loss =  4.164522\n",
            "Done!\n"
          ]
        }
      ],
      "source": [
        "n_epochs = 200\n",
        "lr = 0.01\n",
        "w0 = torch.randn(1, requires_grad=True)\n",
        "w1 = torch.randn(1, requires_grad=True)\n",
        "\n",
        "for i in range(n_epochs):\n",
        "    y_pred = w1 * x + w0\n",
        "\n",
        "    # Calculate loss\n",
        "    loss = torch.mean((y_pred - y) ** 2)\n",
        "\n",
        "    # Calculate gradients\n",
        "    loss.backward()\n",
        "\n",
        "    # Do a step towards anti-gradient (gradient descent)\n",
        "    w0.data -= lr * w0.grad.data\n",
        "    w1.data -= lr * w1.grad.data\n",
        "\n",
        "    # Zero out the gradients, otherwise PyTorch will sum them up!!!\n",
        "    w0.grad.data.zero_()\n",
        "    w1.grad.data.zero_()\n",
        "\n",
        "    # The rest code is just in order to track progress\n",
        "    if (i+1) % 5 == 0:\n",
        "        clear_output(True)\n",
        "        sns.scatterplot(x=x.data.numpy()[:, 0], y=y.data.numpy()[:, 0], label=\"Real data\")\n",
        "        sns.lineplot(x=x.data.numpy()[:, 0], y=y_pred.data.numpy()[:, 0], label=\"Model\",\n",
        "                    color=\"black\")\n",
        "        sns.lineplot(x=x.numpy()[:, 0], y=(3 * x + 2).numpy()[:, 0], label=\"Theoretical\",\n",
        "                    color=\"orange\")\n",
        "        plt.xlabel(\"Feature\")\n",
        "        plt.ylabel(\"Target\")\n",
        "        plt.xlim(-3.0, 3.0)\n",
        "        plt.ylim(-10, 10)\n",
        "        plt.show()\n",
        "\n",
        "        print(f\"Epoch {i + 1} / {n_epochs}\")\n",
        "        print(\"loss = \", loss.data.numpy())\n",
        "        if loss.data.numpy() < 4.25:\n",
        "            print(\"Done!\")\n",
        "            break"
      ]
    },
    {
      "cell_type": "markdown",
      "metadata": {
        "id": "5NB2eiW5jQ4V"
      },
      "source": [
        "What if we don't zero out the gradients:"
      ]
    },
    {
      "cell_type": "code",
      "execution_count": 40,
      "metadata": {
        "id": "u-5Sr4iQjQ4V",
        "outputId": "db3f0f81-a00d-441b-9b9e-c99e4ddb5f80",
        "colab": {
          "base_uri": "https://localhost:8080/",
          "height": 493
        }
      },
      "outputs": [
        {
          "output_type": "display_data",
          "data": {
            "text/plain": [
              "<Figure size 640x440 with 1 Axes>"
            ],
            "image/png": "[encoded data removed]"
          },
          "metadata": {}
        },
        {
          "output_type": "stream",
          "name": "stdout",
          "text": [
            "Epoch 115 / 200\n",
            "loss =  3.7606852\n",
            "Done!\n"
          ]
        }
      ],
      "source": [
        "n_epochs = 200\n",
        "lr = 0.01\n",
        "w0 = torch.randn(1, requires_grad=True)\n",
        "w1 = torch.randn(1, requires_grad=True)\n",
        "\n",
        "for i in range(n_epochs):\n",
        "    y_pred = w1 * x + w0\n",
        "\n",
        "    # Calculate loss\n",
        "    loss = torch.mean((y_pred - y) ** 2)\n",
        "\n",
        "    # Calculate gradients\n",
        "    loss.backward()\n",
        "\n",
        "    # Do a step towards anti-gradient (gradient descent)\n",
        "    w0.data -= lr * w0.grad.data\n",
        "    w1.data -= lr * w1.grad.data\n",
        "\n",
        "    # Don't zero out the gradients, so PyTorch will sum them up!!!\n",
        "    # w0.grad.data.zero_()\n",
        "    # w1.grad.data.zero_()\n",
        "\n",
        "    # The rest code is just in order to track progress\n",
        "    if (i+1) % 5 == 0:\n",
        "        clear_output(True)\n",
        "        sns.scatterplot(x=x.data.numpy()[:, 0], y=y.data.numpy()[:, 0], label=\"Real data\")\n",
        "        sns.lineplot(x=x.data.numpy()[:, 0], y=y_pred.data.numpy()[:, 0], label=\"Model\",\n",
        "                    color=\"black\")\n",
        "        sns.lineplot(x=x.numpy()[:, 0], y=(3 * x + 2).numpy()[:, 0], label=\"Theoretical\",\n",
        "                    color=\"orange\")\n",
        "        plt.xlabel(\"Feature\")\n",
        "        plt.ylabel(\"Target\")\n",
        "        plt.xlim(-3.0, 3.0)\n",
        "        plt.ylim(-10, 10)\n",
        "        plt.show()\n",
        "\n",
        "        print(f\"Epoch {i + 1} / {n_epochs}\")\n",
        "        print(\"loss = \", loss.data.numpy())\n",
        "        if loss.data.numpy() < 4.25:\n",
        "            print(\"Done!\")\n",
        "            break"
      ]
    },
    {
      "cell_type": "markdown",
      "metadata": {
        "id": "T9x3BgtpjQ4V"
      },
      "source": [
        "Computational graphs are dynamic:"
      ]
    },
    {
      "cell_type": "code",
      "execution_count": 41,
      "metadata": {
        "id": "oT97hvhsjQ4V",
        "outputId": "5182dc83-8243-4bb0-c3eb-b444ac17f5c4",
        "colab": {
          "base_uri": "https://localhost:8080/",
          "height": 311
        }
      },
      "outputs": [
        {
          "output_type": "error",
          "ename": "RuntimeError",
          "evalue": "Trying to backward through the graph a second time (or directly access saved tensors after they have already been freed). Saved intermediate values of the graph are freed when you call .backward() or autograd.grad(). Specify retain_graph=True if you need to backward through the graph a second time or if you need to access saved tensors after calling backward.",
          "traceback": [
            "\u001b[0;31m---------------------------------------------------------------------------\u001b[0m",
            "\u001b[0;31mRuntimeError\u001b[0m                              Traceback (most recent call last)",
            "\u001b[0;32m/tmp/ipython-input-2859123600.py\u001b[0m in \u001b[0;36m<cell line: 0>\u001b[0;34m()\u001b[0m\n\u001b[0;32m----> 1\u001b[0;31m \u001b[0mloss\u001b[0m\u001b[0;34m.\u001b[0m\u001b[0mbackward\u001b[0m\u001b[0;34m(\u001b[0m\u001b[0;34m)\u001b[0m\u001b[0;34m\u001b[0m\u001b[0;34m\u001b[0m\u001b[0m\n\u001b[0m",
            "\u001b[0;32m/usr/local/lib/python3.12/dist-packages/torch/_tensor.py\u001b[0m in \u001b[0;36mbackward\u001b[0;34m(self, gradient, retain_graph, create_graph, inputs)\u001b[0m\n\u001b[1;32m    645\u001b[0m                 \u001b[0minputs\u001b[0m\u001b[0;34m=\u001b[0m\u001b[0minputs\u001b[0m\u001b[0;34m,\u001b[0m\u001b[0;34m\u001b[0m\u001b[0;34m\u001b[0m\u001b[0m\n\u001b[1;32m    646\u001b[0m             )\n\u001b[0;32m--> 647\u001b[0;31m         torch.autograd.backward(\n\u001b[0m\u001b[1;32m    648\u001b[0m             \u001b[0mself\u001b[0m\u001b[0;34m,\u001b[0m \u001b[0mgradient\u001b[0m\u001b[0;34m,\u001b[0m \u001b[0mretain_graph\u001b[0m\u001b[0;34m,\u001b[0m \u001b[0mcreate_graph\u001b[0m\u001b[0;34m,\u001b[0m \u001b[0minputs\u001b[0m\u001b[0;34m=\u001b[0m\u001b[0minputs\u001b[0m\u001b[0;34m\u001b[0m\u001b[0;34m\u001b[0m\u001b[0m\n\u001b[1;32m    649\u001b[0m         )\n",
            "\u001b[0;32m/usr/local/lib/python3.12/dist-packages/torch/autograd/__init__.py\u001b[0m in \u001b[0;36mbackward\u001b[0;34m(tensors, grad_tensors, retain_graph, create_graph, grad_variables, inputs)\u001b[0m\n\u001b[1;32m    352\u001b[0m     \u001b[0;31m# some Python versions print out the first line of a multi-line function\u001b[0m\u001b[0;34m\u001b[0m\u001b[0;34m\u001b[0m\u001b[0m\n\u001b[1;32m    353\u001b[0m     \u001b[0;31m# calls in the traceback and some print out the last line\u001b[0m\u001b[0;34m\u001b[0m\u001b[0;34m\u001b[0m\u001b[0m\n\u001b[0;32m--> 354\u001b[0;31m     _engine_run_backward(\n\u001b[0m\u001b[1;32m    355\u001b[0m         \u001b[0mtensors\u001b[0m\u001b[0;34m,\u001b[0m\u001b[0;34m\u001b[0m\u001b[0;34m\u001b[0m\u001b[0m\n\u001b[1;32m    356\u001b[0m         \u001b[0mgrad_tensors_\u001b[0m\u001b[0;34m,\u001b[0m\u001b[0;34m\u001b[0m\u001b[0;34m\u001b[0m\u001b[0m\n",
            "\u001b[0;32m/usr/local/lib/python3.12/dist-packages/torch/autograd/graph.py\u001b[0m in \u001b[0;36m_engine_run_backward\u001b[0;34m(t_outputs, *args, **kwargs)\u001b[0m\n\u001b[1;32m    827\u001b[0m         \u001b[0munregister_hooks\u001b[0m \u001b[0;34m=\u001b[0m \u001b[0m_register_logging_hooks_on_whole_graph\u001b[0m\u001b[0;34m(\u001b[0m\u001b[0mt_outputs\u001b[0m\u001b[0;34m)\u001b[0m\u001b[0;34m\u001b[0m\u001b[0;34m\u001b[0m\u001b[0m\n\u001b[1;32m    828\u001b[0m     \u001b[0;32mtry\u001b[0m\u001b[0;34m:\u001b[0m\u001b[0;34m\u001b[0m\u001b[0;34m\u001b[0m\u001b[0m\n\u001b[0;32m--> 829\u001b[0;31m         return Variable._execution_engine.run_backward(  # Calls into the C++ engine to run the backward pass\n\u001b[0m\u001b[1;32m    830\u001b[0m             \u001b[0mt_outputs\u001b[0m\u001b[0;34m,\u001b[0m \u001b[0;34m*\u001b[0m\u001b[0margs\u001b[0m\u001b[0;34m,\u001b[0m \u001b[0;34m**\u001b[0m\u001b[0mkwargs\u001b[0m\u001b[0;34m\u001b[0m\u001b[0;34m\u001b[0m\u001b[0m\n\u001b[1;32m    831\u001b[0m         )  # Calls into the C++ engine to run the backward pass\n",
            "\u001b[0;31mRuntimeError\u001b[0m: Trying to backward through the graph a second time (or directly access saved tensors after they have already been freed). Saved intermediate values of the graph are freed when you call .backward() or autograd.grad(). Specify retain_graph=True if you need to backward through the graph a second time or if you need to access saved tensors after calling backward."
          ]
        }
      ],
      "source": [
        "loss.backward()"
      ]
    },
    {
      "cell_type": "markdown",
      "metadata": {
        "id": "UaBKs6T5jQ4V"
      },
      "source": [
        "## 4. Neural Networks with nn.Module\n",
        "\n",
        "PyTorch provides the `nn.Module` class as the base for all neural network layers and models.\n",
        "\n",
        "### Key Concepts:\n",
        "- **nn.Module**: Base class for all neural network modules\n",
        "- **Layers**: Building blocks (Linear, Conv2d, LSTM, etc.)\n",
        "- **Sequential**: Container for stacking layers\n",
        "- **Parameters**: Automatically tracked for optimization"
      ]
    },
    {
      "cell_type": "code",
      "execution_count": 42,
      "metadata": {
        "id": "VP33ZwSTjQ4W",
        "outputId": "c2440ca4-199c-402e-820c-f131596a8b64",
        "colab": {
          "base_uri": "https://localhost:8080/"
        }
      },
      "outputs": [
        {
          "output_type": "execute_result",
          "data": {
            "text/plain": [
              "Sequential(\n",
              "  (0): Linear(in_features=10, out_features=20, bias=True)\n",
              "  (1): ReLU()\n",
              "  (2): Linear(in_features=20, out_features=20, bias=True)\n",
              "  (3): ReLU()\n",
              "  (4): Linear(in_features=20, out_features=1, bias=True)\n",
              ")"
            ]
          },
          "metadata": {},
          "execution_count": 42
        }
      ],
      "source": [
        "# Method 1: Using nn.Sequential\n",
        "model_sequential = nn.Sequential(\n",
        "    nn.Linear(10, 20),\n",
        "    nn.ReLU(),\n",
        "    nn.Linear(20, 20),\n",
        "    nn.ReLU(),\n",
        "    nn.Linear(20, 1)\n",
        ")\n",
        "model_sequential"
      ]
    },
    {
      "cell_type": "markdown",
      "metadata": {
        "id": "Xlx9vcLOjQ4W"
      },
      "source": [
        "What is `nn.ReLU()`?"
      ]
    },
    {
      "cell_type": "code",
      "execution_count": 43,
      "metadata": {
        "id": "__Ne0POnjQ4W",
        "outputId": "61812c3d-8dd0-4fa2-ec2b-a12c3ccb6359",
        "colab": {
          "base_uri": "https://localhost:8080/",
          "height": 432
        }
      },
      "outputs": [
        {
          "output_type": "display_data",
          "data": {
            "text/plain": [
              "<Figure size 640x440 with 1 Axes>"
            ],
            "image/png": "[encoded data removed]"
          },
          "metadata": {}
        }
      ],
      "source": [
        "def relu(x):\n",
        "    return torch.max(x, torch.zeros_like(x))\n",
        "\n",
        "x = torch.tensor([-3, -2, -1, 0, 1, 2, 3])\n",
        "sns.lineplot(x=x.numpy(), y=relu(x).numpy())\n",
        "plt.xlabel(\"x\")\n",
        "plt.ylabel(\"relu(x)\");"
      ]
    },
    {
      "cell_type": "code",
      "execution_count": 44,
      "metadata": {
        "id": "yPV0IvSFjQ4W"
      },
      "outputs": [],
      "source": [
        "# Method 2: Custom nn.Module\n",
        "class MyAwesomeNet(nn.Module):\n",
        "    def __init__(self, input_size, hidden_size, output_size):\n",
        "        \"\"\"\n",
        "        Here we can do a lot of things, like:\n",
        "        - Initialize the weights and biases\n",
        "        - Define the activation functions\n",
        "        - Define the number of layers\n",
        "        But now let's just do something simple:\n",
        "        \"\"\"\n",
        "        super(MyAwesomeNet, self).__init__() # Very important!\n",
        "        self.fc1 = nn.Linear(input_size, hidden_size)\n",
        "        self.fc2 = nn.Linear(hidden_size, hidden_size)\n",
        "        self.fc3 = nn.Linear(hidden_size, output_size)\n",
        "        self.relu = nn.ReLU()\n",
        "\n",
        "    def forward(self, x):\n",
        "        x = self.relu(self.fc1(x))\n",
        "        x = self.relu(self.fc2(x))\n",
        "        x = self.fc3(x)\n",
        "\n",
        "        # x here is a tensor of logits (-∞, ∞)\n",
        "        return x\n",
        "\n",
        "model = MyAwesomeNet(input_size=10, hidden_size=20, output_size=1)"
      ]
    },
    {
      "cell_type": "code",
      "source": [
        "model"
      ],
      "metadata": {
        "id": "yXNtc0_2nM1V",
        "outputId": "cd361ae9-4042-46c5-b1b8-9881d470cef7",
        "colab": {
          "base_uri": "https://localhost:8080/"
        }
      },
      "execution_count": 46,
      "outputs": [
        {
          "output_type": "execute_result",
          "data": {
            "text/plain": [
              "MyAwesomeNet(\n",
              "  (fc1): Linear(in_features=10, out_features=20, bias=True)\n",
              "  (fc2): Linear(in_features=20, out_features=20, bias=True)\n",
              "  (fc3): Linear(in_features=20, out_features=1, bias=True)\n",
              "  (relu): ReLU()\n",
              ")"
            ]
          },
          "metadata": {},
          "execution_count": 46
        }
      ]
    },
    {
      "cell_type": "code",
      "execution_count": 45,
      "metadata": {
        "id": "4nKMfgQ9jQ4W",
        "outputId": "72a204ba-3813-4403-9029-c3dd9a7c73ea",
        "colab": {
          "base_uri": "https://localhost:8080/"
        }
      },
      "outputs": [
        {
          "output_type": "stream",
          "name": "stdout",
          "text": [
            "\n",
            "Trainable parameters for sequential model: 661\n",
            "Trainable parameters for custom model: 661\n"
          ]
        }
      ],
      "source": [
        "# The number of trainable parameters\n",
        "print(f\"\\nTrainable parameters for sequential model: {sum(p.numel() for p in model_sequential.parameters() if p.requires_grad)}\")\n",
        "print(f\"Trainable parameters for custom model: {sum(p.numel() for p in model.parameters() if p.requires_grad)}\")"
      ]
    },
    {
      "cell_type": "code",
      "execution_count": 47,
      "metadata": {
        "id": "tMbwqMhfjQ4W",
        "outputId": "8795b24a-15cd-4d6b-babf-4f2ed7a302de",
        "colab": {
          "base_uri": "https://localhost:8080/"
        }
      },
      "outputs": [
        {
          "output_type": "stream",
          "name": "stdout",
          "text": [
            "Input shape: torch.Size([5, 10])\n",
            "Output shape: torch.Size([5, 1])\n",
            "Output: tensor([[0.0355],\n",
            "        [0.0775],\n",
            "        [0.0950],\n",
            "        [0.1365],\n",
            "        [0.0772]])\n"
          ]
        }
      ],
      "source": [
        "# Using the model\n",
        "# Create dummy input\n",
        "x = torch.randn(5, 10)  # 5 samples, 10 features\n",
        "print(f\"Input shape: {x.shape}\")\n",
        "\n",
        "# Forward pass\n",
        "# We don't need to compute gradients here, so we use torch.no_grad()\n",
        "with torch.no_grad():\n",
        "    output = model_sequential(x)\n",
        "    print(f\"Output shape: {output.shape}\")\n",
        "    print(f\"Output: {output}\")"
      ]
    },
    {
      "cell_type": "markdown",
      "metadata": {
        "id": "8lmeaqZYjQ4W"
      },
      "source": [
        "## 5. Training a Neural Network\n",
        "\n",
        "The most difficult but the most important. Now we need to implement a complete training loop for a neural network.\n",
        "\n",
        "### Training Components:\n",
        "- **Dataset**: Abstract class for data representation\n",
        "- **Data Loader**: Batches data efficiently\n",
        "- **Loss Function**: Measures prediction error\n",
        "- **Optimizer**: Updates model parameters\n",
        "- **Training Loop**: Forward pass, backward pass, parameter updates"
      ]
    },
    {
      "cell_type": "code",
      "execution_count": 48,
      "metadata": {
        "id": "nhRYd6WmjQ4W",
        "outputId": "0e9244d4-d0fb-4f06-e0c9-ebc8d51de608",
        "colab": {
          "base_uri": "https://localhost:8080/"
        }
      },
      "outputs": [
        {
          "output_type": "stream",
          "name": "stdout",
          "text": [
            "--2025-08-25 09:46:11--  https://github.com/vib-tcp/ml-summerschool-2025/raw/refs/heads/main/topic-4_deep-learning-protein-structures/day_1/dimers_features.csv\n",
            "Resolving github.com (github.com)... 140.82.113.4\n",
            "Connecting to github.com (github.com)|140.82.113.4|:443... connected.\n",
            "HTTP request sent, awaiting response... 302 Found\n",
            "Location: https://raw.githubusercontent.com/vib-tcp/ml-summerschool-2025/refs/heads/main/topic-4_deep-learning-protein-structures/day_1/dimers_features.csv [following]\n",
            "--2025-08-25 09:46:12--  https://raw.githubusercontent.com/vib-tcp/ml-summerschool-2025/refs/heads/main/topic-4_deep-learning-protein-structures/day_1/dimers_features.csv\n",
            "Resolving raw.githubusercontent.com (raw.githubusercontent.com)... 185.199.108.133, 185.199.109.133, 185.199.110.133, ...\n",
            "Connecting to raw.githubusercontent.com (raw.githubusercontent.com)|185.199.108.133|:443... connected.\n",
            "HTTP request sent, awaiting response... 200 OK\n",
            "Length: 971818 (949K) [text/plain]\n",
            "Saving to: ‘dimers_features.csv’\n",
            "\n",
            "dimers_features.csv 100%[===================>] 949.04K  --.-KB/s    in 0.03s   \n",
            "\n",
            "2025-08-25 09:46:12 (26.9 MB/s) - ‘dimers_features.csv’ saved [971818/971818]\n",
            "\n"
          ]
        }
      ],
      "source": [
        "!wget \"https://github.com/vib-tcp/ml-summerschool-2025/raw/refs/heads/main/topic-4_deep-learning-protein-structures/day_1/dimers_features.csv\""
      ]
    },
    {
      "cell_type": "code",
      "source": [
        "!ls"
      ],
      "metadata": {
        "id": "G7xzuklzoJ6P",
        "outputId": "a85feaac-8d18-4d34-fb8a-d912b583e3a4",
        "colab": {
          "base_uri": "https://localhost:8080/"
        }
      },
      "execution_count": 51,
      "outputs": [
        {
          "output_type": "stream",
          "name": "stdout",
          "text": [
            "dimers_features.csv  sample_data\n"
          ]
        }
      ]
    },
    {
      "cell_type": "code",
      "execution_count": 52,
      "metadata": {
        "id": "OrW7j-VPjQ4W",
        "outputId": "df5d4703-30b5-4a5e-af23-89abda01455d",
        "colab": {
          "base_uri": "https://localhost:8080/",
          "height": 380
        }
      },
      "outputs": [
        {
          "output_type": "stream",
          "name": "stdout",
          "text": [
            "Class distribution: physiological\n",
            "False    841\n",
            "True     836\n",
            "Name: count, dtype: int64\n",
            "Number of dimers: 1677\n",
            "Number of columns: 68\n"
          ]
        },
        {
          "output_type": "execute_result",
          "data": {
            "text/plain": [
              "   pdb-id  global_area  global_area_per_atom  global_volume  \\\n",
              "0  1a17_6      33290.7              12.99403        63046.7   \n",
              "1  1a3a_1      27576.3              12.20190        54497.2   \n",
              "2  1a7g_1      16535.3              12.56482        32323.4   \n",
              "3  1ac6_1      20742.3              12.13000        41277.9   \n",
              "4  1afw_1      65759.5              11.19501       133638.0   \n",
              "\n",
              "   global_volume_per_atom  global_energy  global_energy_per_atom  \\\n",
              "0                24.60839       -6364.07                -2.48402   \n",
              "1                24.11381       -7467.66                -3.30427   \n",
              "2                24.56185       -3276.97                -2.49010   \n",
              "3                24.13912       -5331.03                -3.11756   \n",
              "4                22.75077      -16828.70                -2.86495   \n",
              "\n",
              "   global_sas_area  global_sas_area_per_atom  global_sas_energy  ...  \\\n",
              "0         17047.60                   6.65402          -1801.530  ...   \n",
              "1         12863.40                   5.69177          -1617.510  ...   \n",
              "2          8715.92                   6.62304            371.893  ...   \n",
              "3         10556.20                   6.17322           -802.868  ...   \n",
              "4         25731.70                   4.38061          -1377.680  ...   \n",
              "\n",
              "   contacts      gene  superfamily             pfam  binding_site_area  \\\n",
              "0       138     PPP5C   1.25.40.10              NaN            4153.16   \n",
              "1        62      mtlA  3.40.930.10          PF00359            1868.68   \n",
              "2        72        E2  3.30.70.330          PF00511            1849.89   \n",
              "3        43  TRAV6D-7   2.60.40.10          PF07686            1196.80   \n",
              "4       196      POT1   3.40.47.10  PF00108;PF02803            4846.12   \n",
              "\n",
              "   binding_site_area_polar  binding_site_area_apolar  fraction_polar  \\\n",
              "0                  1651.43                   2501.74        0.397632   \n",
              "1                   826.64                   1042.03        0.442366   \n",
              "2                   694.27                   1155.61        0.375303   \n",
              "3                   452.58                    744.22        0.378158   \n",
              "4                  1860.29                   2985.83        0.383872   \n",
              "\n",
              "   fraction_apolar  difficult  \n",
              "0         0.602370      False  \n",
              "1         0.557629      False  \n",
              "2         0.624691      False  \n",
              "3         0.621842      False  \n",
              "4         0.616128      False  \n",
              "\n",
              "[5 rows x 68 columns]"
            ],
            "text/html": [
              "\n",
              "  <div id=\"df-cbd46380-b75e-41a0-a8c5-f79f0b84bd80\" class=\"colab-df-container\">\n",
              "    <div>\n",
              "<style scoped>\n",
              "    .dataframe tbody tr th:only-of-type {\n",
              "        vertical-align: middle;\n",
              "    }\n",
              "\n",
              "    .dataframe tbody tr th {\n",
              "        vertical-align: top;\n",
              "    }\n",
              "\n",
              "    .dataframe thead th {\n",
              "        text-align: right;\n",
              "    }\n",
              "</style>\n",
              "<table border=\"1\" class=\"dataframe\">\n",
              "  <thead>\n",
              "    <tr style=\"text-align: right;\">\n",
              "      <th></th>\n",
              "      <th>pdb-id</th>\n",
              "      <th>global_area</th>\n",
              "      <th>global_area_per_atom</th>\n",
              "      <th>global_volume</th>\n",
              "      <th>global_volume_per_atom</th>\n",
              "      <th>global_energy</th>\n",
              "      <th>global_energy_per_atom</th>\n",
              "      <th>global_sas_area</th>\n",
              "      <th>global_sas_area_per_atom</th>\n",
              "      <th>global_sas_energy</th>\n",
              "      <th>...</th>\n",
              "      <th>contacts</th>\n",
              "      <th>gene</th>\n",
              "      <th>superfamily</th>\n",
              "      <th>pfam</th>\n",
              "      <th>binding_site_area</th>\n",
              "      <th>binding_site_area_polar</th>\n",
              "      <th>binding_site_area_apolar</th>\n",
              "      <th>fraction_polar</th>\n",
              "      <th>fraction_apolar</th>\n",
              "      <th>difficult</th>\n",
              "    </tr>\n",
              "  </thead>\n",
              "  <tbody>\n",
              "    <tr>\n",
              "      <th>0</th>\n",
              "      <td>1a17_6</td>\n",
              "      <td>33290.7</td>\n",
              "      <td>12.99403</td>\n",
              "      <td>63046.7</td>\n",
              "      <td>24.60839</td>\n",
              "      <td>-6364.07</td>\n",
              "      <td>-2.48402</td>\n",
              "      <td>17047.60</td>\n",
              "      <td>6.65402</td>\n",
              "      <td>-1801.530</td>\n",
              "      <td>...</td>\n",
              "      <td>138</td>\n",
              "      <td>PPP5C</td>\n",
              "      <td>1.25.40.10</td>\n",
              "      <td>NaN</td>\n",
              "      <td>4153.16</td>\n",
              "      <td>1651.43</td>\n",
              "      <td>2501.74</td>\n",
              "      <td>0.397632</td>\n",
              "      <td>0.602370</td>\n",
              "      <td>False</td>\n",
              "    </tr>\n",
              "    <tr>\n",
              "      <th>1</th>\n",
              "      <td>1a3a_1</td>\n",
              "      <td>27576.3</td>\n",
              "      <td>12.20190</td>\n",
              "      <td>54497.2</td>\n",
              "      <td>24.11381</td>\n",
              "      <td>-7467.66</td>\n",
              "      <td>-3.30427</td>\n",
              "      <td>12863.40</td>\n",
              "      <td>5.69177</td>\n",
              "      <td>-1617.510</td>\n",
              "      <td>...</td>\n",
              "      <td>62</td>\n",
              "      <td>mtlA</td>\n",
              "      <td>3.40.930.10</td>\n",
              "      <td>PF00359</td>\n",
              "      <td>1868.68</td>\n",
              "      <td>826.64</td>\n",
              "      <td>1042.03</td>\n",
              "      <td>0.442366</td>\n",
              "      <td>0.557629</td>\n",
              "      <td>False</td>\n",
              "    </tr>\n",
              "    <tr>\n",
              "      <th>2</th>\n",
              "      <td>1a7g_1</td>\n",
              "      <td>16535.3</td>\n",
              "      <td>12.56482</td>\n",
              "      <td>32323.4</td>\n",
              "      <td>24.56185</td>\n",
              "      <td>-3276.97</td>\n",
              "      <td>-2.49010</td>\n",
              "      <td>8715.92</td>\n",
              "      <td>6.62304</td>\n",
              "      <td>371.893</td>\n",
              "      <td>...</td>\n",
              "      <td>72</td>\n",
              "      <td>E2</td>\n",
              "      <td>3.30.70.330</td>\n",
              "      <td>PF00511</td>\n",
              "      <td>1849.89</td>\n",
              "      <td>694.27</td>\n",
              "      <td>1155.61</td>\n",
              "      <td>0.375303</td>\n",
              "      <td>0.624691</td>\n",
              "      <td>False</td>\n",
              "    </tr>\n",
              "    <tr>\n",
              "      <th>3</th>\n",
              "      <td>1ac6_1</td>\n",
              "      <td>20742.3</td>\n",
              "      <td>12.13000</td>\n",
              "      <td>41277.9</td>\n",
              "      <td>24.13912</td>\n",
              "      <td>-5331.03</td>\n",
              "      <td>-3.11756</td>\n",
              "      <td>10556.20</td>\n",
              "      <td>6.17322</td>\n",
              "      <td>-802.868</td>\n",
              "      <td>...</td>\n",
              "      <td>43</td>\n",
              "      <td>TRAV6D-7</td>\n",
              "      <td>2.60.40.10</td>\n",
              "      <td>PF07686</td>\n",
              "      <td>1196.80</td>\n",
              "      <td>452.58</td>\n",
              "      <td>744.22</td>\n",
              "      <td>0.378158</td>\n",
              "      <td>0.621842</td>\n",
              "      <td>False</td>\n",
              "    </tr>\n",
              "    <tr>\n",
              "      <th>4</th>\n",
              "      <td>1afw_1</td>\n",
              "      <td>65759.5</td>\n",
              "      <td>11.19501</td>\n",
              "      <td>133638.0</td>\n",
              "      <td>22.75077</td>\n",
              "      <td>-16828.70</td>\n",
              "      <td>-2.86495</td>\n",
              "      <td>25731.70</td>\n",
              "      <td>4.38061</td>\n",
              "      <td>-1377.680</td>\n",
              "      <td>...</td>\n",
              "      <td>196</td>\n",
              "      <td>POT1</td>\n",
              "      <td>3.40.47.10</td>\n",
              "      <td>PF00108;PF02803</td>\n",
              "      <td>4846.12</td>\n",
              "      <td>1860.29</td>\n",
              "      <td>2985.83</td>\n",
              "      <td>0.383872</td>\n",
              "      <td>0.616128</td>\n",
              "      <td>False</td>\n",
              "    </tr>\n",
              "  </tbody>\n",
              "</table>\n",
              "<p>5 rows × 68 columns</p>\n",
              "</div>\n",
              "    <div class=\"colab-df-buttons\">\n",
              "\n",
              "  <div class=\"colab-df-container\">\n",
              "    <button class=\"colab-df-convert\" onclick=\"convertToInteractive('df-cbd46380-b75e-41a0-a8c5-f79f0b84bd80')\"\n",
              "            title=\"Convert this dataframe to an interactive table.\"\n",
              "            style=\"display:none;\">\n",
              "\n",
              "  <svg xmlns=\"http://www.w3.org/2000/svg\" height=\"24px\" viewBox=\"0 -960 960 960\">\n",
              "    <path d=\"M120-120v-720h720v720H120Zm60-500h600v-160H180v160Zm220 220h160v-160H400v160Zm0 220h160v-160H400v160ZM180-400h160v-160H180v160Zm440 0h160v-160H620v160ZM180-180h160v-160H180v160Zm440 0h160v-160H620v160Z\"/>\n",
              "  </svg>\n",
              "    </button>\n",
              "\n",
              "  <style>\n",
              "    .colab-df-container {\n",
              "      display:flex;\n",
              "      gap: 12px;\n",
              "    }\n",
              "\n",
              "    .colab-df-convert {\n",
              "      background-color: #E8F0FE;\n",
              "      border: none;\n",
              "      border-radius: 50%;\n",
              "      cursor: pointer;\n",
              "      display: none;\n",
              "      fill: #1967D2;\n",
              "      height: 32px;\n",
              "      padding: 0 0 0 0;\n",
              "      width: 32px;\n",
              "    }\n",
              "\n",
              "    .colab-df-convert:hover {\n",
              "      background-color: #E2EBFA;\n",
              "      box-shadow: 0px 1px 2px rgba(60, 64, 67, 0.3), 0px 1px 3px 1px rgba(60, 64, 67, 0.15);\n",
              "      fill: #174EA6;\n",
              "    }\n",
              "\n",
              "    .colab-df-buttons div {\n",
              "      margin-bottom: 4px;\n",
              "    }\n",
              "\n",
              "    [theme=dark] .colab-df-convert {\n",
              "      background-color: #3B4455;\n",
              "      fill: #D2E3FC;\n",
              "    }\n",
              "\n",
              "    [theme=dark] .colab-df-convert:hover {\n",
              "      background-color: #434B5C;\n",
              "      box-shadow: 0px 1px 3px 1px rgba(0, 0, 0, 0.15);\n",
              "      filter: drop-shadow(0px 1px 2px rgba(0, 0, 0, 0.3));\n",
              "      fill: #FFFFFF;\n",
              "    }\n",
              "  </style>\n",
              "\n",
              "    <script>\n",
              "      const buttonEl =\n",
              "        document.querySelector('#df-cbd46380-b75e-41a0-a8c5-f79f0b84bd80 button.colab-df-convert');\n",
              "      buttonEl.style.display =\n",
              "        google.colab.kernel.accessAllowed ? 'block' : 'none';\n",
              "\n",
              "      async function convertToInteractive(key) {\n",
              "        const element = document.querySelector('#df-cbd46380-b75e-41a0-a8c5-f79f0b84bd80');\n",
              "        const dataTable =\n",
              "          await google.colab.kernel.invokeFunction('convertToInteractive',\n",
              "                                                    [key], {});\n",
              "        if (!dataTable) return;\n",
              "\n",
              "        const docLinkHtml = 'Like what you see? Visit the ' +\n",
              "          '<a target=\"_blank\" href=https://colab.research.google.com/notebooks/data_table.ipynb>data table notebook</a>'\n",
              "          + ' to learn more about interactive tables.';\n",
              "        element.innerHTML = '';\n",
              "        dataTable['output_type'] = 'display_data';\n",
              "        await google.colab.output.renderOutput(dataTable, element);\n",
              "        const docLink = document.createElement('div');\n",
              "        docLink.innerHTML = docLinkHtml;\n",
              "        element.appendChild(docLink);\n",
              "      }\n",
              "    </script>\n",
              "  </div>\n",
              "\n",
              "\n",
              "    <div id=\"df-961e222e-4512-4a9a-b349-7a136d823eed\">\n",
              "      <button class=\"colab-df-quickchart\" onclick=\"quickchart('df-961e222e-4512-4a9a-b349-7a136d823eed')\"\n",
              "                title=\"Suggest charts\"\n",
              "                style=\"display:none;\">\n",
              "\n",
              "<svg xmlns=\"http://www.w3.org/2000/svg\" height=\"24px\"viewBox=\"0 0 24 24\"\n",
              "     width=\"24px\">\n",
              "    <g>\n",
              "        <path d=\"M19 3H5c-1.1 0-2 .9-2 2v14c0 1.1.9 2 2 2h14c1.1 0 2-.9 2-2V5c0-1.1-.9-2-2-2zM9 17H7v-7h2v7zm4 0h-2V7h2v10zm4 0h-2v-4h2v4z\"/>\n",
              "    </g>\n",
              "</svg>\n",
              "      </button>\n",
              "\n",
              "<style>\n",
              "  .colab-df-quickchart {\n",
              "      --bg-color: #E8F0FE;\n",
              "      --fill-color: #1967D2;\n",
              "      --hover-bg-color: #E2EBFA;\n",
              "      --hover-fill-color: #174EA6;\n",
              "      --disabled-fill-color: #AAA;\n",
              "      --disabled-bg-color: #DDD;\n",
              "  }\n",
              "\n",
              "  [theme=dark] .colab-df-quickchart {\n",
              "      --bg-color: #3B4455;\n",
              "      --fill-color: #D2E3FC;\n",
              "      --hover-bg-color: #434B5C;\n",
              "      --hover-fill-color: #FFFFFF;\n",
              "      --disabled-bg-color: #3B4455;\n",
              "      --disabled-fill-color: #666;\n",
              "  }\n",
              "\n",
              "  .colab-df-quickchart {\n",
              "    background-color: var(--bg-color);\n",
              "    border: none;\n",
              "    border-radius: 50%;\n",
              "    cursor: pointer;\n",
              "    display: none;\n",
              "    fill: var(--fill-color);\n",
              "    height: 32px;\n",
              "    padding: 0;\n",
              "    width: 32px;\n",
              "  }\n",
              "\n",
              "  .colab-df-quickchart:hover {\n",
              "    background-color: var(--hover-bg-color);\n",
              "    box-shadow: 0 1px 2px rgba(60, 64, 67, 0.3), 0 1px 3px 1px rgba(60, 64, 67, 0.15);\n",
              "    fill: var(--button-hover-fill-color);\n",
              "  }\n",
              "\n",
              "  .colab-df-quickchart-complete:disabled,\n",
              "  .colab-df-quickchart-complete:disabled:hover {\n",
              "    background-color: var(--disabled-bg-color);\n",
              "    fill: var(--disabled-fill-color);\n",
              "    box-shadow: none;\n",
              "  }\n",
              "\n",
              "  .colab-df-spinner {\n",
              "    border: 2px solid var(--fill-color);\n",
              "    border-color: transparent;\n",
              "    border-bottom-color: var(--fill-color);\n",
              "    animation:\n",
              "      spin 1s steps(1) infinite;\n",
              "  }\n",
              "\n",
              "  @keyframes spin {\n",
              "    0% {\n",
              "      border-color: transparent;\n",
              "      border-bottom-color: var(--fill-color);\n",
              "      border-left-color: var(--fill-color);\n",
              "    }\n",
              "    20% {\n",
              "      border-color: transparent;\n",
              "      border-left-color: var(--fill-color);\n",
              "      border-top-color: var(--fill-color);\n",
              "    }\n",
              "    30% {\n",
              "      border-color: transparent;\n",
              "      border-left-color: var(--fill-color);\n",
              "      border-top-color: var(--fill-color);\n",
              "      border-right-color: var(--fill-color);\n",
              "    }\n",
              "    40% {\n",
              "      border-color: transparent;\n",
              "      border-right-color: var(--fill-color);\n",
              "      border-top-color: var(--fill-color);\n",
              "    }\n",
              "    60% {\n",
              "      border-color: transparent;\n",
              "      border-right-color: var(--fill-color);\n",
              "    }\n",
              "    80% {\n",
              "      border-color: transparent;\n",
              "      border-right-color: var(--fill-color);\n",
              "      border-bottom-color: var(--fill-color);\n",
              "    }\n",
              "    90% {\n",
              "      border-color: transparent;\n",
              "      border-bottom-color: var(--fill-color);\n",
              "    }\n",
              "  }\n",
              "</style>\n",
              "\n",
              "      <script>\n",
              "        async function quickchart(key) {\n",
              "          const quickchartButtonEl =\n",
              "            document.querySelector('#' + key + ' button');\n",
              "          quickchartButtonEl.disabled = true;  // To prevent multiple clicks.\n",
              "          quickchartButtonEl.classList.add('colab-df-spinner');\n",
              "          try {\n",
              "            const charts = await google.colab.kernel.invokeFunction(\n",
              "                'suggestCharts', [key], {});\n",
              "          } catch (error) {\n",
              "            console.error('Error during call to suggestCharts:', error);\n",
              "          }\n",
              "          quickchartButtonEl.classList.remove('colab-df-spinner');\n",
              "          quickchartButtonEl.classList.add('colab-df-quickchart-complete');\n",
              "        }\n",
              "        (() => {\n",
              "          let quickchartButtonEl =\n",
              "            document.querySelector('#df-961e222e-4512-4a9a-b349-7a136d823eed button');\n",
              "          quickchartButtonEl.style.display =\n",
              "            google.colab.kernel.accessAllowed ? 'block' : 'none';\n",
              "        })();\n",
              "      </script>\n",
              "    </div>\n",
              "\n",
              "    </div>\n",
              "  </div>\n"
            ],
            "application/vnd.google.colaboratory.intrinsic+json": {
              "type": "dataframe",
              "variable_name": "dimer_data"
            }
          },
          "metadata": {},
          "execution_count": 52
        }
      ],
      "source": [
        "# TODO: change the path to the data\n",
        "dimer_data_path = Path(\"dimers_features.csv\")\n",
        "dimer_data = pd.read_csv(dimer_data_path, index_col=0)\n",
        "y = dimer_data[\"physiological\"]\n",
        "print(f\"Class distribution: {y.value_counts()}\")\n",
        "print(f\"Number of dimers: {dimer_data.shape[0]}\")\n",
        "print(f\"Number of columns: {dimer_data.shape[1]}\")\n",
        "dimer_data.head()"
      ]
    },
    {
      "cell_type": "markdown",
      "metadata": {
        "id": "XtzsbEn_jQ4X"
      },
      "source": [
        "For now we will just use a subset of the features and discuss this dataset more later:"
      ]
    },
    {
      "cell_type": "code",
      "execution_count": 53,
      "metadata": {
        "id": "kWinYPfIjQ4X",
        "outputId": "6ef40d95-9f36-402c-a897-5cc6f7bb40b1",
        "colab": {
          "base_uri": "https://localhost:8080/",
          "height": 244
        }
      },
      "outputs": [
        {
          "output_type": "stream",
          "name": "stdout",
          "text": [
            "Number of used features: 14\n"
          ]
        },
        {
          "output_type": "execute_result",
          "data": {
            "text/plain": [
              "   split_area  split_area_per_atom  split_volume  split_volume_per_atom  \\\n",
              "0     36100.7             14.09083       66589.0               25.99102   \n",
              "1     28767.8             12.72912       55897.6               24.73345   \n",
              "2     17688.7             13.44126       33954.9               25.80160   \n",
              "3     21510.9             12.57947       42193.0               24.67427   \n",
              "4     69013.4             11.74896      137834.0               23.46510   \n",
              "\n",
              "   split_energy  split_energy_per_atom  split_sas_area  \\\n",
              "0      -5101.39               -1.99117         21251.3   \n",
              "1      -7017.63               -3.10515         14769.9   \n",
              "2      -2256.32               -1.71453         10585.0   \n",
              "3      -4876.31               -2.85164         11780.7   \n",
              "4     -15396.90               -2.62120         30628.6   \n",
              "\n",
              "   split_sas_area_per_atom  split_sas_energy  split_sas_energy_per_atom  \\\n",
              "0                  8.29481         -1216.300                   -0.47475   \n",
              "1                  6.53535         -1493.750                   -0.66095   \n",
              "2                  8.04331           958.562                    0.72839   \n",
              "3                  6.88930          -487.757                   -0.28524   \n",
              "4                  5.21427          -562.925                   -0.09583   \n",
              "\n",
              "   split_nonsas_area  split_nonsas_area_per_atom  split_nonsas_energy  \\\n",
              "0            14849.4                     5.79602            -3885.090   \n",
              "1            13997.9                     6.19376            -5523.880   \n",
              "2             7103.7                     5.39795            -3214.882   \n",
              "3             9730.2                     5.69018            -4388.553   \n",
              "4            38384.8                     6.53470           -14833.975   \n",
              "\n",
              "   split_nonsas_energy_per_atom  \n",
              "0                      -1.51643  \n",
              "1                      -2.44419  \n",
              "2                      -2.44292  \n",
              "3                      -2.56641  \n",
              "4                      -2.52536  "
            ],
            "text/html": [
              "\n",
              "  <div id=\"df-f9d5491a-61b4-41ff-8ead-4764f2a72b56\" class=\"colab-df-container\">\n",
              "    <div>\n",
              "<style scoped>\n",
              "    .dataframe tbody tr th:only-of-type {\n",
              "        vertical-align: middle;\n",
              "    }\n",
              "\n",
              "    .dataframe tbody tr th {\n",
              "        vertical-align: top;\n",
              "    }\n",
              "\n",
              "    .dataframe thead th {\n",
              "        text-align: right;\n",
              "    }\n",
              "</style>\n",
              "<table border=\"1\" class=\"dataframe\">\n",
              "  <thead>\n",
              "    <tr style=\"text-align: right;\">\n",
              "      <th></th>\n",
              "      <th>split_area</th>\n",
              "      <th>split_area_per_atom</th>\n",
              "      <th>split_volume</th>\n",
              "      <th>split_volume_per_atom</th>\n",
              "      <th>split_energy</th>\n",
              "      <th>split_energy_per_atom</th>\n",
              "      <th>split_sas_area</th>\n",
              "      <th>split_sas_area_per_atom</th>\n",
              "      <th>split_sas_energy</th>\n",
              "      <th>split_sas_energy_per_atom</th>\n",
              "      <th>split_nonsas_area</th>\n",
              "      <th>split_nonsas_area_per_atom</th>\n",
              "      <th>split_nonsas_energy</th>\n",
              "      <th>split_nonsas_energy_per_atom</th>\n",
              "    </tr>\n",
              "  </thead>\n",
              "  <tbody>\n",
              "    <tr>\n",
              "      <th>0</th>\n",
              "      <td>36100.7</td>\n",
              "      <td>14.09083</td>\n",
              "      <td>66589.0</td>\n",
              "      <td>25.99102</td>\n",
              "      <td>-5101.39</td>\n",
              "      <td>-1.99117</td>\n",
              "      <td>21251.3</td>\n",
              "      <td>8.29481</td>\n",
              "      <td>-1216.300</td>\n",
              "      <td>-0.47475</td>\n",
              "      <td>14849.4</td>\n",
              "      <td>5.79602</td>\n",
              "      <td>-3885.090</td>\n",
              "      <td>-1.51643</td>\n",
              "    </tr>\n",
              "    <tr>\n",
              "      <th>1</th>\n",
              "      <td>28767.8</td>\n",
              "      <td>12.72912</td>\n",
              "      <td>55897.6</td>\n",
              "      <td>24.73345</td>\n",
              "      <td>-7017.63</td>\n",
              "      <td>-3.10515</td>\n",
              "      <td>14769.9</td>\n",
              "      <td>6.53535</td>\n",
              "      <td>-1493.750</td>\n",
              "      <td>-0.66095</td>\n",
              "      <td>13997.9</td>\n",
              "      <td>6.19376</td>\n",
              "      <td>-5523.880</td>\n",
              "      <td>-2.44419</td>\n",
              "    </tr>\n",
              "    <tr>\n",
              "      <th>2</th>\n",
              "      <td>17688.7</td>\n",
              "      <td>13.44126</td>\n",
              "      <td>33954.9</td>\n",
              "      <td>25.80160</td>\n",
              "      <td>-2256.32</td>\n",
              "      <td>-1.71453</td>\n",
              "      <td>10585.0</td>\n",
              "      <td>8.04331</td>\n",
              "      <td>958.562</td>\n",
              "      <td>0.72839</td>\n",
              "      <td>7103.7</td>\n",
              "      <td>5.39795</td>\n",
              "      <td>-3214.882</td>\n",
              "      <td>-2.44292</td>\n",
              "    </tr>\n",
              "    <tr>\n",
              "      <th>3</th>\n",
              "      <td>21510.9</td>\n",
              "      <td>12.57947</td>\n",
              "      <td>42193.0</td>\n",
              "      <td>24.67427</td>\n",
              "      <td>-4876.31</td>\n",
              "      <td>-2.85164</td>\n",
              "      <td>11780.7</td>\n",
              "      <td>6.88930</td>\n",
              "      <td>-487.757</td>\n",
              "      <td>-0.28524</td>\n",
              "      <td>9730.2</td>\n",
              "      <td>5.69018</td>\n",
              "      <td>-4388.553</td>\n",
              "      <td>-2.56641</td>\n",
              "    </tr>\n",
              "    <tr>\n",
              "      <th>4</th>\n",
              "      <td>69013.4</td>\n",
              "      <td>11.74896</td>\n",
              "      <td>137834.0</td>\n",
              "      <td>23.46510</td>\n",
              "      <td>-15396.90</td>\n",
              "      <td>-2.62120</td>\n",
              "      <td>30628.6</td>\n",
              "      <td>5.21427</td>\n",
              "      <td>-562.925</td>\n",
              "      <td>-0.09583</td>\n",
              "      <td>38384.8</td>\n",
              "      <td>6.53470</td>\n",
              "      <td>-14833.975</td>\n",
              "      <td>-2.52536</td>\n",
              "    </tr>\n",
              "  </tbody>\n",
              "</table>\n",
              "</div>\n",
              "    <div class=\"colab-df-buttons\">\n",
              "\n",
              "  <div class=\"colab-df-container\">\n",
              "    <button class=\"colab-df-convert\" onclick=\"convertToInteractive('df-f9d5491a-61b4-41ff-8ead-4764f2a72b56')\"\n",
              "            title=\"Convert this dataframe to an interactive table.\"\n",
              "            style=\"display:none;\">\n",
              "\n",
              "  <svg xmlns=\"http://www.w3.org/2000/svg\" height=\"24px\" viewBox=\"0 -960 960 960\">\n",
              "    <path d=\"M120-120v-720h720v720H120Zm60-500h600v-160H180v160Zm220 220h160v-160H400v160Zm0 220h160v-160H400v160ZM180-400h160v-160H180v160Zm440 0h160v-160H620v160ZM180-180h160v-160H180v160Zm440 0h160v-160H620v160Z\"/>\n",
              "  </svg>\n",
              "    </button>\n",
              "\n",
              "  <style>\n",
              "    .colab-df-container {\n",
              "      display:flex;\n",
              "      gap: 12px;\n",
              "    }\n",
              "\n",
              "    .colab-df-convert {\n",
              "      background-color: #E8F0FE;\n",
              "      border: none;\n",
              "      border-radius: 50%;\n",
              "      cursor: pointer;\n",
              "      display: none;\n",
              "      fill: #1967D2;\n",
              "      height: 32px;\n",
              "      padding: 0 0 0 0;\n",
              "      width: 32px;\n",
              "    }\n",
              "\n",
              "    .colab-df-convert:hover {\n",
              "      background-color: #E2EBFA;\n",
              "      box-shadow: 0px 1px 2px rgba(60, 64, 67, 0.3), 0px 1px 3px 1px rgba(60, 64, 67, 0.15);\n",
              "      fill: #174EA6;\n",
              "    }\n",
              "\n",
              "    .colab-df-buttons div {\n",
              "      margin-bottom: 4px;\n",
              "    }\n",
              "\n",
              "    [theme=dark] .colab-df-convert {\n",
              "      background-color: #3B4455;\n",
              "      fill: #D2E3FC;\n",
              "    }\n",
              "\n",
              "    [theme=dark] .colab-df-convert:hover {\n",
              "      background-color: #434B5C;\n",
              "      box-shadow: 0px 1px 3px 1px rgba(0, 0, 0, 0.15);\n",
              "      filter: drop-shadow(0px 1px 2px rgba(0, 0, 0, 0.3));\n",
              "      fill: #FFFFFF;\n",
              "    }\n",
              "  </style>\n",
              "\n",
              "    <script>\n",
              "      const buttonEl =\n",
              "        document.querySelector('#df-f9d5491a-61b4-41ff-8ead-4764f2a72b56 button.colab-df-convert');\n",
              "      buttonEl.style.display =\n",
              "        google.colab.kernel.accessAllowed ? 'block' : 'none';\n",
              "\n",
              "      async function convertToInteractive(key) {\n",
              "        const element = document.querySelector('#df-f9d5491a-61b4-41ff-8ead-4764f2a72b56');\n",
              "        const dataTable =\n",
              "          await google.colab.kernel.invokeFunction('convertToInteractive',\n",
              "                                                    [key], {});\n",
              "        if (!dataTable) return;\n",
              "\n",
              "        const docLinkHtml = 'Like what you see? Visit the ' +\n",
              "          '<a target=\"_blank\" href=https://colab.research.google.com/notebooks/data_table.ipynb>data table notebook</a>'\n",
              "          + ' to learn more about interactive tables.';\n",
              "        element.innerHTML = '';\n",
              "        dataTable['output_type'] = 'display_data';\n",
              "        await google.colab.output.renderOutput(dataTable, element);\n",
              "        const docLink = document.createElement('div');\n",
              "        docLink.innerHTML = docLinkHtml;\n",
              "        element.appendChild(docLink);\n",
              "      }\n",
              "    </script>\n",
              "  </div>\n",
              "\n",
              "\n",
              "    <div id=\"df-1efdbabb-b3bf-4c4d-9219-9d0bd5f8780b\">\n",
              "      <button class=\"colab-df-quickchart\" onclick=\"quickchart('df-1efdbabb-b3bf-4c4d-9219-9d0bd5f8780b')\"\n",
              "                title=\"Suggest charts\"\n",
              "                style=\"display:none;\">\n",
              "\n",
              "<svg xmlns=\"http://www.w3.org/2000/svg\" height=\"24px\"viewBox=\"0 0 24 24\"\n",
              "     width=\"24px\">\n",
              "    <g>\n",
              "        <path d=\"M19 3H5c-1.1 0-2 .9-2 2v14c0 1.1.9 2 2 2h14c1.1 0 2-.9 2-2V5c0-1.1-.9-2-2-2zM9 17H7v-7h2v7zm4 0h-2V7h2v10zm4 0h-2v-4h2v4z\"/>\n",
              "    </g>\n",
              "</svg>\n",
              "      </button>\n",
              "\n",
              "<style>\n",
              "  .colab-df-quickchart {\n",
              "      --bg-color: #E8F0FE;\n",
              "      --fill-color: #1967D2;\n",
              "      --hover-bg-color: #E2EBFA;\n",
              "      --hover-fill-color: #174EA6;\n",
              "      --disabled-fill-color: #AAA;\n",
              "      --disabled-bg-color: #DDD;\n",
              "  }\n",
              "\n",
              "  [theme=dark] .colab-df-quickchart {\n",
              "      --bg-color: #3B4455;\n",
              "      --fill-color: #D2E3FC;\n",
              "      --hover-bg-color: #434B5C;\n",
              "      --hover-fill-color: #FFFFFF;\n",
              "      --disabled-bg-color: #3B4455;\n",
              "      --disabled-fill-color: #666;\n",
              "  }\n",
              "\n",
              "  .colab-df-quickchart {\n",
              "    background-color: var(--bg-color);\n",
              "    border: none;\n",
              "    border-radius: 50%;\n",
              "    cursor: pointer;\n",
              "    display: none;\n",
              "    fill: var(--fill-color);\n",
              "    height: 32px;\n",
              "    padding: 0;\n",
              "    width: 32px;\n",
              "  }\n",
              "\n",
              "  .colab-df-quickchart:hover {\n",
              "    background-color: var(--hover-bg-color);\n",
              "    box-shadow: 0 1px 2px rgba(60, 64, 67, 0.3), 0 1px 3px 1px rgba(60, 64, 67, 0.15);\n",
              "    fill: var(--button-hover-fill-color);\n",
              "  }\n",
              "\n",
              "  .colab-df-quickchart-complete:disabled,\n",
              "  .colab-df-quickchart-complete:disabled:hover {\n",
              "    background-color: var(--disabled-bg-color);\n",
              "    fill: var(--disabled-fill-color);\n",
              "    box-shadow: none;\n",
              "  }\n",
              "\n",
              "  .colab-df-spinner {\n",
              "    border: 2px solid var(--fill-color);\n",
              "    border-color: transparent;\n",
              "    border-bottom-color: var(--fill-color);\n",
              "    animation:\n",
              "      spin 1s steps(1) infinite;\n",
              "  }\n",
              "\n",
              "  @keyframes spin {\n",
              "    0% {\n",
              "      border-color: transparent;\n",
              "      border-bottom-color: var(--fill-color);\n",
              "      border-left-color: var(--fill-color);\n",
              "    }\n",
              "    20% {\n",
              "      border-color: transparent;\n",
              "      border-left-color: var(--fill-color);\n",
              "      border-top-color: var(--fill-color);\n",
              "    }\n",
              "    30% {\n",
              "      border-color: transparent;\n",
              "      border-left-color: var(--fill-color);\n",
              "      border-top-color: var(--fill-color);\n",
              "      border-right-color: var(--fill-color);\n",
              "    }\n",
              "    40% {\n",
              "      border-color: transparent;\n",
              "      border-right-color: var(--fill-color);\n",
              "      border-top-color: var(--fill-color);\n",
              "    }\n",
              "    60% {\n",
              "      border-color: transparent;\n",
              "      border-right-color: var(--fill-color);\n",
              "    }\n",
              "    80% {\n",
              "      border-color: transparent;\n",
              "      border-right-color: var(--fill-color);\n",
              "      border-bottom-color: var(--fill-color);\n",
              "    }\n",
              "    90% {\n",
              "      border-color: transparent;\n",
              "      border-bottom-color: var(--fill-color);\n",
              "    }\n",
              "  }\n",
              "</style>\n",
              "\n",
              "      <script>\n",
              "        async function quickchart(key) {\n",
              "          const quickchartButtonEl =\n",
              "            document.querySelector('#' + key + ' button');\n",
              "          quickchartButtonEl.disabled = true;  // To prevent multiple clicks.\n",
              "          quickchartButtonEl.classList.add('colab-df-spinner');\n",
              "          try {\n",
              "            const charts = await google.colab.kernel.invokeFunction(\n",
              "                'suggestCharts', [key], {});\n",
              "          } catch (error) {\n",
              "            console.error('Error during call to suggestCharts:', error);\n",
              "          }\n",
              "          quickchartButtonEl.classList.remove('colab-df-spinner');\n",
              "          quickchartButtonEl.classList.add('colab-df-quickchart-complete');\n",
              "        }\n",
              "        (() => {\n",
              "          let quickchartButtonEl =\n",
              "            document.querySelector('#df-1efdbabb-b3bf-4c4d-9219-9d0bd5f8780b button');\n",
              "          quickchartButtonEl.style.display =\n",
              "            google.colab.kernel.accessAllowed ? 'block' : 'none';\n",
              "        })();\n",
              "      </script>\n",
              "    </div>\n",
              "\n",
              "    </div>\n",
              "  </div>\n"
            ],
            "application/vnd.google.colaboratory.intrinsic+json": {
              "type": "dataframe",
              "variable_name": "X",
              "summary": "{\n  \"name\": \"X\",\n  \"rows\": 1677,\n  \"fields\": [\n    {\n      \"column\": \"split_area\",\n      \"properties\": {\n        \"dtype\": \"number\",\n        \"std\": 36586.633816184476,\n        \"min\": 7410.6,\n        \"max\": 341101.0,\n        \"num_unique_values\": 1672,\n        \"samples\": [\n          55730.9,\n          19451.1,\n          74824.1\n        ],\n        \"semantic_type\": \"\",\n        \"description\": \"\"\n      }\n    },\n    {\n      \"column\": \"split_area_per_atom\",\n      \"properties\": {\n        \"dtype\": \"number\",\n        \"std\": 0.8525778060709311,\n        \"min\": 11.00278,\n        \"max\": 17.36204,\n        \"num_unique_values\": 1667,\n        \"samples\": [\n          12.20948,\n          13.46313,\n          11.46283\n        ],\n        \"semantic_type\": \"\",\n        \"description\": \"\"\n      }\n    },\n    {\n      \"column\": \"split_volume\",\n      \"properties\": {\n        \"dtype\": \"number\",\n        \"std\": 73554.6540083604,\n        \"min\": 13592.5,\n        \"max\": 697139.0,\n        \"num_unique_values\": 1672,\n        \"samples\": [\n          41248.5,\n          126571.0,\n          175059.0\n        ],\n        \"semantic_type\": \"\",\n        \"description\": \"\"\n      }\n    },\n    {\n      \"column\": \"split_volume_per_atom\",\n      \"properties\": {\n        \"dtype\": \"number\",\n        \"std\": 1.117819933536095,\n        \"min\": 21.60305,\n        \"max\": 30.33219,\n        \"num_unique_values\": 1671,\n        \"samples\": [\n          25.7,\n          24.15477,\n          23.48209\n        ],\n        \"semantic_type\": \"\",\n        \"description\": \"\"\n      }\n    },\n    {\n      \"column\": \"split_energy\",\n      \"properties\": {\n        \"dtype\": \"number\",\n        \"std\": 8750.170068767637,\n        \"min\": -76882.3,\n        \"max\": 2101.69,\n        \"num_unique_values\": 1672,\n        \"samples\": [\n          -8402.3,\n          -3727.01,\n          -17628.2\n        ],\n        \"semantic_type\": \"\",\n        \"description\": \"\"\n      }\n    },\n    {\n      \"column\": \"split_energy_per_atom\",\n      \"properties\": {\n        \"dtype\": \"number\",\n        \"std\": 0.6315450045851161,\n        \"min\": -3.84158,\n        \"max\": 2.05119,\n        \"num_unique_values\": 1666,\n        \"samples\": [\n          -1.90617,\n          -3.04067,\n          -2.84621\n        ],\n        \"semantic_type\": \"\",\n        \"description\": \"\"\n      }\n    },\n    {\n      \"column\": \"split_sas_area\",\n      \"properties\": {\n        \"dtype\": \"number\",\n        \"std\": 16708.555666945624,\n        \"min\": 5393.35,\n        \"max\": 145760.0,\n        \"num_unique_values\": 1669,\n        \"samples\": [\n          19306.0,\n          26822.3,\n          33515.4\n        ],\n        \"semantic_type\": \"\",\n        \"description\": \"\"\n      }\n    },\n    {\n      \"column\": \"split_sas_area_per_atom\",\n      \"properties\": {\n        \"dtype\": \"number\",\n        \"std\": 1.206600062417764,\n        \"min\": 4.35293,\n        \"max\": 13.05619,\n        \"num_unique_values\": 1672,\n        \"samples\": [\n          5.36491,\n          5.82975,\n          5.15924\n        ],\n        \"semantic_type\": \"\",\n        \"description\": \"\"\n      }\n    },\n    {\n      \"column\": \"split_sas_energy\",\n      \"properties\": {\n        \"dtype\": \"number\",\n        \"std\": 1942.8584279306692,\n        \"min\": -8433.43,\n        \"max\": 15978.6,\n        \"num_unique_values\": 1674,\n        \"samples\": [\n          -847.293,\n          -5238.01,\n          -3505.36\n        ],\n        \"semantic_type\": \"\",\n        \"description\": \"\"\n      }\n    },\n    {\n      \"column\": \"split_sas_energy_per_atom\",\n      \"properties\": {\n        \"dtype\": \"number\",\n        \"std\": 0.47542475813138974,\n        \"min\": -1.64316,\n        \"max\": 2.59065,\n        \"num_unique_values\": 1669,\n        \"samples\": [\n          0.38292,\n          -0.37699,\n          0.09191\n        ],\n        \"semantic_type\": \"\",\n        \"description\": \"\"\n      }\n    },\n    {\n      \"column\": \"split_nonsas_area\",\n      \"properties\": {\n        \"dtype\": \"number\",\n        \"std\": 20143.77973252133,\n        \"min\": 2017.25,\n        \"max\": 195341.0,\n        \"num_unique_values\": 1670,\n        \"samples\": [\n          34425.8,\n          16596.1,\n          33634.1\n        ],\n        \"semantic_type\": \"\",\n        \"description\": \"\"\n      }\n    },\n    {\n      \"column\": \"split_nonsas_area_per_atom\",\n      \"properties\": {\n        \"dtype\": \"number\",\n        \"std\": 0.4009072655276325,\n        \"min\": 4.22583,\n        \"max\": 6.78159,\n        \"num_unique_values\": 1666,\n        \"samples\": [\n          5.72746,\n          6.4235,\n          6.09645\n        ],\n        \"semantic_type\": \"\",\n        \"description\": \"\"\n      }\n    },\n    {\n      \"column\": \"split_nonsas_energy\",\n      \"properties\": {\n        \"dtype\": \"number\",\n        \"std\": 8183.486011420478,\n        \"min\": -82528.22,\n        \"max\": 596.761,\n        \"num_unique_values\": 1674,\n        \"samples\": [\n          -13684.107,\n          -21254.69,\n          -21044.24\n        ],\n        \"semantic_type\": \"\",\n        \"description\": \"\"\n      }\n    },\n    {\n      \"column\": \"split_nonsas_energy_per_atom\",\n      \"properties\": {\n        \"dtype\": \"number\",\n        \"std\": 0.42182068341182705,\n        \"min\": -3.73838,\n        \"max\": 0.56298,\n        \"num_unique_values\": 1665,\n        \"samples\": [\n          -2.51719,\n          -2.65814,\n          -2.88056\n        ],\n        \"semantic_type\": \"\",\n        \"description\": \"\"\n      }\n    }\n  ]\n}"
            }
          },
          "metadata": {},
          "execution_count": 53
        }
      ],
      "source": [
        "features_to_use = [col for col in dimer_data.columns if col.startswith(\"split_\")]\n",
        "X = dimer_data[features_to_use]\n",
        "print(f\"Number of used features: {X.shape[1]}\")\n",
        "X.head()"
      ]
    },
    {
      "cell_type": "markdown",
      "metadata": {
        "id": "_m86TLkKjQ4X"
      },
      "source": [
        "To train a good model we should always evaluate its performance on a subset of the data that it doesn't use for training. Now we will split the data randomly, but usually it's not that trivial."
      ]
    },
    {
      "cell_type": "code",
      "execution_count": 54,
      "metadata": {
        "id": "W5u8aBuLjQ4X",
        "outputId": "bae87b22-b933-4ddb-8e87-abed463a69cf",
        "colab": {
          "base_uri": "https://localhost:8080/"
        }
      },
      "outputs": [
        {
          "output_type": "stream",
          "name": "stdout",
          "text": [
            "X_train shape: (1341, 14)\n",
            "X_test shape: (336, 14)\n",
            "y_train shape: (1341,)\n",
            "y_test shape: (336,)\n"
          ]
        }
      ],
      "source": [
        "X_train, X_test, y_train, y_test = train_test_split(X, y, test_size=0.2, random_state=SEED)\n",
        "\n",
        "print(f\"X_train shape: {X_train.shape}\")\n",
        "print(f\"X_test shape: {X_test.shape}\")\n",
        "print(f\"y_train shape: {y_train.shape}\")\n",
        "print(f\"y_test shape: {y_test.shape}\")"
      ]
    },
    {
      "cell_type": "markdown",
      "metadata": {
        "id": "4-q4d3AVjQ4X"
      },
      "source": [
        "Normalize the data:"
      ]
    },
    {
      "cell_type": "code",
      "execution_count": 55,
      "metadata": {
        "id": "plu0JYA6jQ4X"
      },
      "outputs": [],
      "source": [
        "x_mean, x_std = X_train.mean(axis=0), X_train.std(axis=0)\n",
        "X_train_scaled = (X_train - x_mean) / x_std\n",
        "X_test_scaled = (X_test - x_mean) / x_std"
      ]
    },
    {
      "cell_type": "markdown",
      "metadata": {
        "id": "b0dQSpaejQ4X"
      },
      "source": [
        "#### Create a custom pytorch dataset\n",
        "\n",
        "- Inherit your class from torch `Dataset`\n",
        "- Implement 2 mandatory methods:\n",
        "    * `__getitem__`\n",
        "    * `__len__`"
      ]
    },
    {
      "cell_type": "code",
      "execution_count": 56,
      "metadata": {
        "id": "p4Ka0WkEjQ4X",
        "outputId": "f78ca255-add5-4777-c54d-567c5327a68a",
        "colab": {
          "base_uri": "https://localhost:8080/"
        }
      },
      "outputs": [
        {
          "output_type": "stream",
          "name": "stdout",
          "text": [
            "Train dataset size: 1341\n",
            "Test dataset size: 336\n"
          ]
        }
      ],
      "source": [
        "class DimerDataset(Dataset):\n",
        "    def __init__(self, features, labels):\n",
        "        self.feature_names = features.columns.tolist()\n",
        "        self.features = features\n",
        "        self.labels = labels\n",
        "\n",
        "    def __len__(self):\n",
        "        return len(self.features)\n",
        "\n",
        "    def __getitem__(self, idx):\n",
        "        features = torch.tensor(self.features.iloc[idx].values, dtype=torch.float32)\n",
        "        target = torch.tensor(self.labels.iloc[idx], dtype=torch.float32)\n",
        "        return features, target\n",
        "\n",
        "train_dataset = DimerDataset(X_train_scaled, y_train)\n",
        "test_dataset = DimerDataset(X_test_scaled, y_test)\n",
        "\n",
        "print(f\"Train dataset size: {len(train_dataset)}\")\n",
        "print(f\"Test dataset size: {len(test_dataset)}\")"
      ]
    },
    {
      "cell_type": "code",
      "execution_count": 57,
      "metadata": {
        "id": "cNZJhTB3jQ4X"
      },
      "outputs": [],
      "source": [
        "# Create data loaders (efficient batching)\n",
        "train_loader = DataLoader(train_dataset, batch_size=32, shuffle=True)\n",
        "# Why do we need shuffle=False or True?\n",
        "test_loader = DataLoader(test_dataset, batch_size=32, shuffle=False)"
      ]
    },
    {
      "cell_type": "code",
      "execution_count": 58,
      "metadata": {
        "id": "PRfhXBoGjQ4X",
        "outputId": "70c2478d-a02e-4eeb-e628-3d9357cb2109",
        "colab": {
          "base_uri": "https://localhost:8080/"
        }
      },
      "outputs": [
        {
          "output_type": "execute_result",
          "data": {
            "text/plain": [
              "(torch.Size([32, 14]), torch.Size([32]))"
            ]
          },
          "metadata": {},
          "execution_count": 58
        }
      ],
      "source": [
        "train_batch = next(iter(train_loader))\n",
        "train_batch[0].shape, train_batch[1].shape"
      ]
    },
    {
      "cell_type": "markdown",
      "metadata": {
        "id": "RYIWyK6djQ4X"
      },
      "source": [
        "#### Model training\n",
        "\n",
        "Initialize `model`, `criterion` (loss function) and `optimizer` to perform gradient descent"
      ]
    },
    {
      "cell_type": "code",
      "execution_count": 59,
      "metadata": {
        "id": "IWcYRTyujQ4Y"
      },
      "outputs": [],
      "source": [
        "model = MyAwesomeNet(input_size=X_train.shape[1], hidden_size=1280, output_size=2)\n",
        "criterion = nn.CrossEntropyLoss() # Or loss\n",
        "optimizer = optim.SGD(model.parameters(), lr=0.001)"
      ]
    },
    {
      "cell_type": "code",
      "execution_count": 60,
      "metadata": {
        "id": "1wp7dx3ojQ4Y",
        "outputId": "832837f4-83f6-4caa-8128-4fe921a6fd0e",
        "colab": {
          "base_uri": "https://localhost:8080/"
        }
      },
      "outputs": [
        {
          "output_type": "stream",
          "name": "stdout",
          "text": [
            "=== Training Loop ===\n",
            "Epoch   0: Loss = 0.6882, Train Acc = 0.63, Test Acc = 0.69\n",
            "Epoch  10: Loss = 0.5674, Train Acc = 0.74, Test Acc = 0.71\n",
            "Epoch  20: Loss = 0.5330, Train Acc = 0.76, Test Acc = 0.74\n",
            "Epoch  30: Loss = 0.5159, Train Acc = 0.77, Test Acc = 0.74\n",
            "Epoch  40: Loss = 0.5037, Train Acc = 0.77, Test Acc = 0.75\n",
            "Epoch  50: Loss = 0.4947, Train Acc = 0.78, Test Acc = 0.75\n",
            "Epoch  60: Loss = 0.4869, Train Acc = 0.78, Test Acc = 0.75\n",
            "Epoch  70: Loss = 0.4806, Train Acc = 0.78, Test Acc = 0.76\n",
            "Epoch  80: Loss = 0.4755, Train Acc = 0.78, Test Acc = 0.76\n",
            "Epoch  90: Loss = 0.4708, Train Acc = 0.79, Test Acc = 0.76\n",
            "\n",
            "Final Test Accuracy: 0.7738\n",
            "Time taken: 40.84 seconds\n"
          ]
        }
      ],
      "source": [
        "# Training loop\n",
        "print(\"=== Training Loop ===\")\n",
        "\n",
        "n_epochs = 100\n",
        "batch_size = 32\n",
        "train_losses = []\n",
        "test_accuracies = []\n",
        "train_accuracies = []\n",
        "start_time = time.time()\n",
        "\n",
        "for epoch in range(n_epochs):\n",
        "    model.train()\n",
        "    total_loss = 0\n",
        "\n",
        "    # Mini-batch training\n",
        "    train_predictions = []\n",
        "    train_targets = []\n",
        "    for batch_X, batch_y in train_loader:\n",
        "\n",
        "        # Forward pass\n",
        "        outputs = model(batch_X)\n",
        "        loss = criterion(outputs, batch_y.to(torch.long))\n",
        "        _, predicted = torch.max(outputs, 1)\n",
        "        train_predictions.append(predicted.numpy())\n",
        "        train_targets.append(batch_y.numpy())\n",
        "\n",
        "        # Backward pass and optimization\n",
        "        optimizer.zero_grad()\n",
        "        loss.backward()\n",
        "        optimizer.step()\n",
        "\n",
        "        total_loss += loss.item()\n",
        "\n",
        "    train_predictions = np.concatenate(train_predictions)\n",
        "    train_targets = np.concatenate(train_targets)\n",
        "    train_accuracies.append(accuracy_score(train_targets, train_predictions))\n",
        "\n",
        "    # Evaluation\n",
        "    model.eval()\n",
        "    test_predictions = []\n",
        "    test_targets = []\n",
        "    with torch.no_grad():\n",
        "        for batch_X, batch_y in test_loader:\n",
        "            test_outputs = model(batch_X)\n",
        "            _, predicted = torch.max(test_outputs, 1)\n",
        "            test_predictions.append(predicted.numpy())\n",
        "            test_targets.append(batch_y.numpy())\n",
        "\n",
        "    test_predictions = np.concatenate(test_predictions)\n",
        "    test_targets = np.concatenate(test_targets)\n",
        "    train_losses.append(total_loss / (len(X_train) // batch_size))\n",
        "    test_accuracies.append(accuracy_score(test_targets, test_predictions))\n",
        "\n",
        "    if epoch % 10 == 0:\n",
        "        print(f\"Epoch {epoch:3d}: Loss = {train_losses[-1]:.4f}, Train Acc = {train_accuracies[-1]:.2f}, Test Acc = {test_accuracies[-1]:.2f}\")\n",
        "\n",
        "print(f\"\\nFinal Test Accuracy: {test_accuracies[-1]:.4f}\")\n",
        "print(f\"Time taken: {time.time() - start_time:.2f} seconds\")"
      ]
    },
    {
      "cell_type": "markdown",
      "metadata": {
        "id": "2I5OgzEJjQ4Y"
      },
      "source": [
        "### Exercise:\n",
        "\n",
        "- What would happen if you don't normalize X?\n",
        "- Try to run training with unnormalized X."
      ]
    },
    {
      "cell_type": "code",
      "execution_count": 61,
      "metadata": {
        "id": "nzuXXuOCjQ4Y",
        "outputId": "5eee89ee-8116-426b-8b46-fc6d9fc2718a",
        "colab": {
          "base_uri": "https://localhost:8080/"
        }
      },
      "outputs": [
        {
          "output_type": "stream",
          "name": "stdout",
          "text": [
            "Train dataset size: 1341\n",
            "Test dataset size: 336\n"
          ]
        }
      ],
      "source": [
        "train_dataset_unnormalized = DimerDataset(X_train, y_train)\n",
        "test_dataset_unnormalized = DimerDataset(X_test, y_test)\n",
        "\n",
        "print(f\"Train dataset size: {len(train_dataset_unnormalized)}\")\n",
        "print(f\"Test dataset size: {len(test_dataset_unnormalized)}\")"
      ]
    },
    {
      "cell_type": "code",
      "source": [
        "# Create data loaders (efficient batching)\n",
        "train_loader_unnormalized = DataLoader(train_dataset_unnormalized, batch_size=32, shuffle=True)\n",
        "# Why do we need shuffle=False or True?\n",
        "test_loader_unnormalized = DataLoader(test_dataset_unnormalized, batch_size=32, shuffle=False)"
      ],
      "metadata": {
        "id": "L118qCeSuqo8"
      },
      "execution_count": 62,
      "outputs": []
    },
    {
      "cell_type": "code",
      "source": [
        "train_batch_unnormalized = next(iter(train_loader_unnormalized))\n",
        "train_batch_unnormalized[0].shape, train_batch_unnormalized[1].shape"
      ],
      "metadata": {
        "id": "RZg1SepeuxHI",
        "outputId": "fb4447ce-65a6-4a1f-c265-f530b811203e",
        "colab": {
          "base_uri": "https://localhost:8080/"
        }
      },
      "execution_count": 63,
      "outputs": [
        {
          "output_type": "execute_result",
          "data": {
            "text/plain": [
              "(torch.Size([32, 14]), torch.Size([32]))"
            ]
          },
          "metadata": {},
          "execution_count": 63
        }
      ]
    },
    {
      "cell_type": "code",
      "source": [
        "model = MyAwesomeNet(input_size=X_train.shape[1], hidden_size=1280, output_size=2)\n",
        "criterion = nn.CrossEntropyLoss() # Or loss\n",
        "optimizer = optim.SGD(model.parameters(), lr=0.001)"
      ],
      "metadata": {
        "id": "wQW3rUaTu42s"
      },
      "execution_count": 65,
      "outputs": []
    },
    {
      "cell_type": "code",
      "source": [
        "# Training loop\n",
        "print(\"=== Training Loop ===\")\n",
        "\n",
        "n_epochs = 100\n",
        "batch_size = 32\n",
        "train_losses = []\n",
        "test_accuracies = []\n",
        "train_accuracies = []\n",
        "start_time = time.time()\n",
        "\n",
        "for epoch in range(n_epochs):\n",
        "    model.train()\n",
        "    total_loss = 0\n",
        "\n",
        "    # Mini-batch training\n",
        "    train_predictions = []\n",
        "    train_targets = []\n",
        "    for batch_X, batch_y in train_loader_unnormalized:\n",
        "\n",
        "        # Forward pass\n",
        "        outputs = model(batch_X)\n",
        "        loss = criterion(outputs, batch_y.to(torch.long))\n",
        "        _, predicted = torch.max(outputs, 1)\n",
        "        train_predictions.append(predicted.numpy())\n",
        "        train_targets.append(batch_y.numpy())\n",
        "\n",
        "        # Backward pass and optimization\n",
        "        optimizer.zero_grad()\n",
        "        loss.backward()\n",
        "        optimizer.step()\n",
        "\n",
        "        total_loss += loss.item()\n",
        "\n",
        "    train_predictions = np.concatenate(train_predictions)\n",
        "    train_targets = np.concatenate(train_targets)\n",
        "    train_accuracies.append(accuracy_score(train_targets, train_predictions))\n",
        "\n",
        "    # Evaluation\n",
        "    model.eval()\n",
        "    test_predictions = []\n",
        "    test_targets = []\n",
        "    with torch.no_grad():\n",
        "        for batch_X, batch_y in test_loader_unnormalized:\n",
        "            test_outputs = model(batch_X)\n",
        "            _, predicted = torch.max(test_outputs, 1)\n",
        "            test_predictions.append(predicted.numpy())\n",
        "            test_targets.append(batch_y.numpy())\n",
        "\n",
        "    test_predictions = np.concatenate(test_predictions)\n",
        "    test_targets = np.concatenate(test_targets)\n",
        "    train_losses.append(total_loss / (len(X_train) // batch_size))\n",
        "    test_accuracies.append(accuracy_score(test_targets, test_predictions))\n",
        "\n",
        "    if epoch % 10 == 0:\n",
        "        print(f\"Epoch {epoch:3d}: Loss = {train_losses[-1]:.4f}, Train Acc = {train_accuracies[-1]:.2f}, Test Acc = {test_accuracies[-1]:.2f}\")\n",
        "\n",
        "print(f\"\\nFinal Test Accuracy: {test_accuracies[-1]:.4f}\")\n",
        "print(f\"Time taken: {time.time() - start_time:.2f} seconds\")"
      ],
      "metadata": {
        "id": "-IGYsCmAvCI2",
        "outputId": "5a161d3f-167b-41f5-b492-caa24ea5a98a",
        "colab": {
          "base_uri": "https://localhost:8080/"
        }
      },
      "execution_count": 66,
      "outputs": [
        {
          "output_type": "stream",
          "name": "stdout",
          "text": [
            "=== Training Loop ===\n",
            "Epoch   0: Loss = 17068513526637383680.0000, Train Acc = 0.50, Test Acc = 0.50\n",
            "Epoch  10: Loss = 0.7027, Train Acc = 0.51, Test Acc = 0.50\n",
            "Epoch  20: Loss = 0.7027, Train Acc = 0.51, Test Acc = 0.50\n",
            "Epoch  30: Loss = 0.7027, Train Acc = 0.51, Test Acc = 0.50\n",
            "Epoch  40: Loss = 0.7027, Train Acc = 0.51, Test Acc = 0.50\n",
            "Epoch  50: Loss = 0.7027, Train Acc = 0.51, Test Acc = 0.50\n",
            "Epoch  60: Loss = 0.7026, Train Acc = 0.51, Test Acc = 0.50\n",
            "Epoch  70: Loss = 0.7027, Train Acc = 0.51, Test Acc = 0.50\n",
            "Epoch  80: Loss = 0.7027, Train Acc = 0.51, Test Acc = 0.50\n",
            "Epoch  90: Loss = 0.7026, Train Acc = 0.51, Test Acc = 0.50\n",
            "\n",
            "Final Test Accuracy: 0.5000\n",
            "Time taken: 40.18 seconds\n"
          ]
        }
      ]
    },
    {
      "cell_type": "code",
      "execution_count": 67,
      "metadata": {
        "id": "nGIlPH4-jQ4Y",
        "outputId": "077163eb-6766-43b6-a0b7-cc1709398e6d",
        "colab": {
          "base_uri": "https://localhost:8080/",
          "height": 450
        }
      },
      "outputs": [
        {
          "output_type": "display_data",
          "data": {
            "text/plain": [
              "<Figure size 640x440 with 1 Axes>"
            ],
            "image/png": "[encoded data removed]"
          },
          "metadata": {}
        }
      ],
      "source": [
        "sns.lineplot(x=range(n_epochs), y=train_losses, label=\"Train\")\n",
        "plt.xlabel(\"Epoch\")\n",
        "plt.ylabel(\"Loss\")\n",
        "plt.legend();"
      ]
    },
    {
      "cell_type": "code",
      "execution_count": 68,
      "metadata": {
        "id": "ouFFfrScjQ4Y",
        "outputId": "33bdec53-e35d-4911-ddce-786f66f63290",
        "colab": {
          "base_uri": "https://localhost:8080/",
          "height": 432
        }
      },
      "outputs": [
        {
          "output_type": "display_data",
          "data": {
            "text/plain": [
              "<Figure size 640x440 with 1 Axes>"
            ],
            "image/png": "[encoded data removed]"
          },
          "metadata": {}
        }
      ],
      "source": [
        "sns.lineplot(x=range(n_epochs), y=train_accuracies, label=\"Train\");\n",
        "sns.lineplot(x=range(n_epochs), y=test_accuracies, label=\"Test\");\n",
        "plt.xlabel(\"Epoch\");\n",
        "plt.ylabel(\"Accuracy\");\n",
        "plt.legend();"
      ]
    },
    {
      "cell_type": "markdown",
      "metadata": {
        "id": "KdiZ6KvfjQ4Y"
      },
      "source": [
        "## 7. GPU Acceleration\n",
        "\n",
        "PyTorch makes it easy to use GPUs for faster computation.\n",
        "\n",
        "### Key Concepts:\n",
        "- **device**: CPU or GPU\n",
        "- **to()**: Move tensors/models to device\n",
        "- **cuda.is_available()**: Check GPU availability"
      ]
    },
    {
      "cell_type": "code",
      "execution_count": 69,
      "metadata": {
        "id": "rGiOGyyPjQ4Y"
      },
      "outputs": [],
      "source": [
        "model = MyAwesomeNet(input_size=X_train.shape[1], hidden_size=1280, output_size=2)\n",
        "model = model.to(device)\n",
        "criterion = nn.CrossEntropyLoss() # Or loss\n",
        "optimizer = optim.SGD(model.parameters(), lr=0.001)"
      ]
    },
    {
      "cell_type": "code",
      "execution_count": 70,
      "metadata": {
        "id": "vwov-U2JjQ4Z",
        "outputId": "0be540e7-f6f7-4d0c-e9a2-2184c7a1bef7",
        "colab": {
          "base_uri": "https://localhost:8080/"
        }
      },
      "outputs": [
        {
          "output_type": "stream",
          "name": "stdout",
          "text": [
            "=== Training Loop ===\n",
            "Epoch   0: Loss = 0.6688, Train Acc = 0.71, Test Acc = 0.68\n",
            "Epoch  10: Loss = 0.5618, Train Acc = 0.74, Test Acc = 0.71\n",
            "Epoch  20: Loss = 0.5308, Train Acc = 0.76, Test Acc = 0.74\n",
            "Epoch  30: Loss = 0.5140, Train Acc = 0.77, Test Acc = 0.75\n",
            "Epoch  40: Loss = 0.5024, Train Acc = 0.77, Test Acc = 0.76\n",
            "Epoch  50: Loss = 0.4937, Train Acc = 0.78, Test Acc = 0.76\n",
            "Epoch  60: Loss = 0.4866, Train Acc = 0.78, Test Acc = 0.76\n",
            "Epoch  70: Loss = 0.4800, Train Acc = 0.78, Test Acc = 0.77\n",
            "Epoch  80: Loss = 0.4749, Train Acc = 0.78, Test Acc = 0.77\n",
            "Epoch  90: Loss = 0.4705, Train Acc = 0.79, Test Acc = 0.77\n",
            "\n",
            "Final Test Accuracy: 0.7768\n",
            "Time taken: 16.57 seconds\n"
          ]
        }
      ],
      "source": [
        "# Training loop\n",
        "print(\"=== Training Loop ===\")\n",
        "\n",
        "n_epochs = 100\n",
        "batch_size = 32\n",
        "train_losses = []\n",
        "test_accuracies = []\n",
        "train_accuracies = []\n",
        "start_time = time.time()\n",
        "\n",
        "for epoch in range(n_epochs):\n",
        "    model.train()\n",
        "    total_loss = 0\n",
        "\n",
        "    # Mini-batch training\n",
        "    train_predictions = []\n",
        "    train_targets = []\n",
        "    for batch_X, batch_y in train_loader:\n",
        "        # Put tensors on GPU\n",
        "        batch_X = batch_X.to(device)\n",
        "        batch_y = batch_y.to(device)\n",
        "\n",
        "        # Forward pass\n",
        "        outputs = model(batch_X)\n",
        "        loss = criterion(outputs, batch_y.to(torch.long))\n",
        "        _, predicted = torch.max(outputs, 1)\n",
        "        train_predictions.append(predicted.cpu().numpy())\n",
        "        train_targets.append(batch_y.cpu().numpy())\n",
        "\n",
        "        # Backward pass and optimization\n",
        "        optimizer.zero_grad()\n",
        "        loss.backward()\n",
        "        optimizer.step()\n",
        "\n",
        "        total_loss += loss.item()\n",
        "\n",
        "    train_predictions = np.concatenate(train_predictions)\n",
        "    train_targets = np.concatenate(train_targets)\n",
        "    train_accuracies.append(accuracy_score(train_targets, train_predictions))\n",
        "\n",
        "    # Evaluation\n",
        "    model.eval()\n",
        "    test_predictions = []\n",
        "    test_targets = []\n",
        "    with torch.no_grad():\n",
        "        for batch_X, batch_y in test_loader:\n",
        "            batch_X = batch_X.to(device)\n",
        "            batch_y = batch_y.to(device)\n",
        "            test_outputs = model(batch_X)\n",
        "            _, predicted = torch.max(test_outputs, 1)\n",
        "            test_predictions.append(predicted.cpu().numpy())\n",
        "            test_targets.append(batch_y.cpu().numpy())\n",
        "\n",
        "    test_predictions = np.concatenate(test_predictions)\n",
        "    test_targets = np.concatenate(test_targets)\n",
        "    train_losses.append(total_loss / (len(X_train) // batch_size))\n",
        "    test_accuracies.append(accuracy_score(test_targets, test_predictions))\n",
        "\n",
        "    if epoch % 10 == 0:\n",
        "        print(f\"Epoch {epoch:3d}: Loss = {train_losses[-1]:.4f}, Train Acc = {train_accuracies[-1]:.2f}, Test Acc = {test_accuracies[-1]:.2f}\")\n",
        "\n",
        "print(f\"\\nFinal Test Accuracy: {test_accuracies[-1]:.4f}\")\n",
        "print(f\"Time taken: {time.time() - start_time:.2f} seconds\")"
      ]
    },
    {
      "cell_type": "markdown",
      "metadata": {
        "id": "WUxcRM3DjQ4Z"
      },
      "source": [
        "## 8. Best Practices and Tips\n",
        "\n",
        "### Memory Management:\n",
        "- Use `torch.no_grad()` for inference\n",
        "- Clear gradients with `optimizer.zero_grad()`\n",
        "- Use appropriate batch sizes\n",
        "\n",
        "### Debugging:\n",
        "- Check tensor shapes with `.shape`\n",
        "- Use `print()` or `torch.sum()` for debugging\n",
        "- Verify device placement\n",
        "\n",
        "### Performance:\n",
        "- Use GPU when available\n",
        "\n",
        "### Common Pitfalls:\n",
        "- Forgetting to call `model.train()` and `model.eval()`\n",
        "- Not zeroing gradients\n",
        "- Mixing CPU and GPU tensors"
      ]
    },
    {
      "cell_type": "markdown",
      "metadata": {
        "id": "TSaGFX-NjQ4Z"
      },
      "source": [
        "## 9. Summary and Next Steps\n",
        "\n",
        "### What We've Covered:\n",
        "1. **Tensors**: Basic operations and manipulation\n",
        "2. **Autograd**: Automatic differentiation\n",
        "3. **Neural Networks**: Building models with nn.Module\n",
        "4. **Training**: Complete training loops\n",
        "5. **Data Handling**: Datasets and DataLoaders\n",
        "6. **GPU Acceleration**: Using CUDA\n",
        "7. **Best Practices**: Common pitfalls and solutions\n",
        "\n",
        "### Resources:\n",
        "- [PyTorch Official Tutorials](https://pytorch.org/tutorials/)\n",
        "- [PyTorch Documentation](https://pytorch.org/docs/)\n",
        "- [PyTorch Forums](https://discuss.pytorch.org/)\n",
        "- [GitHub Examples](https://github.com/pytorch/examples)"
      ]
    }
  ],
  "metadata": {
    "accelerator": "GPU",
    "colab": {
      "gpuType": "T4",
      "provenance": []
    },
    "kernelspec": {
      "display_name": "Python VIB course",
      "language": "python",
      "name": "protein_dl"
    },
    "language_info": {
      "codemirror_mode": {
        "name": "ipython",
        "version": 3
      },
      "file_extension": ".py",
      "mimetype": "text/x-python",
      "name": "python",
      "nbconvert_exporter": "python",
      "pygments_lexer": "ipython3",
      "version": "3.10.18"
    }
  },
  "nbformat": 4,
  "nbformat_minor": 0
}